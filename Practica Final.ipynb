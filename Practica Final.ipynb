{
 "cells": [
  {
   "cell_type": "markdown",
   "metadata": {},
   "source": [
    "<img src='logo_ucm.png' width='200'/>"
   ]
  },
  {
   "cell_type": "markdown",
   "metadata": {},
   "source": [
    "# <center>PROYECTO MACHINE LEARNING AIRBNB</center>"
   ]
  },
  {
   "cell_type": "markdown",
   "metadata": {},
   "source": [
    "**PARTICIPANTES:**"
   ]
  },
  {
   "cell_type": "markdown",
   "metadata": {},
   "source": [
    "\n",
    "BRYAM DAVID CHAMBA JARAMILLO\n",
    "\n",
    "ALVAR YEBEL DE BLAS FERNÁNDEZ\n",
    "\n",
    "MARÍA GARCÍA RODRIGUEZ\n",
    "\n",
    "MANUEL GRAU ROLDÁN\n",
    "\n",
    "ÁLVARO MARTÍN LÓPEZ\n",
    "\n",
    "LUIS JAVIER NATES ARECHAVALETA"
   ]
  },
  {
   "cell_type": "code",
   "execution_count": 1,
   "metadata": {},
   "outputs": [],
   "source": [
    "#import funciones_auxiliares \n",
    "import matplotlib.pyplot as plt\n",
    "import seaborn as sns\n",
    "\n",
    "import numpy as np\n",
    "import pandas as pd\n",
    "import datetime\n",
    "\n",
    "#Estadística\n",
    "from scipy import stats\n",
    "from scipy.stats import norm\n",
    "import inspect\n",
    "\n",
    "#Aprendizaje automático\n",
    "from sklearn.impute import SimpleImputer\n",
    "from sklearn import preprocessing\n",
    "from sklearn.preprocessing import OneHotEncoder\n",
    "from sklearn.preprocessing import OrdinalEncoder\n",
    "import category_encoders as ce\n",
    "from sklearn.neighbors import KNeighborsRegressor\n",
    "from sklearn.ensemble import RandomForestRegressor\n",
    "from sklearn.model_selection import GridSearchCV\n",
    "from sklearn import metrics\n",
    "from sklearn.metrics import \\\n",
    "    explained_variance_score, mean_squared_error,\\\n",
    "    r2_score,mean_absolute_error\n",
    "from sklearn.linear_model import LassoCV\n",
    "from sklearn.model_selection import RepeatedKFold\n",
    "from sklearn.svm import SVR\n"
   ]
  },
  {
   "cell_type": "markdown",
   "metadata": {},
   "source": [
    "# 1. Importar los datos."
   ]
  },
  {
   "cell_type": "markdown",
   "metadata": {},
   "source": [
    "Los importamos mediante read_csv de pandas"
   ]
  },
  {
   "cell_type": "code",
   "execution_count": 2,
   "metadata": {},
   "outputs": [],
   "source": [
    "data = pd.read_csv('airbnb-listings-extract.csv', sep=';', error_bad_lines=False)"
   ]
  },
  {
   "cell_type": "code",
   "execution_count": 3,
   "metadata": {},
   "outputs": [
    {
     "data": {
      "text/html": [
       "<div>\n",
       "<style scoped>\n",
       "    .dataframe tbody tr th:only-of-type {\n",
       "        vertical-align: middle;\n",
       "    }\n",
       "\n",
       "    .dataframe tbody tr th {\n",
       "        vertical-align: top;\n",
       "    }\n",
       "\n",
       "    .dataframe thead th {\n",
       "        text-align: right;\n",
       "    }\n",
       "</style>\n",
       "<table border=\"1\" class=\"dataframe\">\n",
       "  <thead>\n",
       "    <tr style=\"text-align: right;\">\n",
       "      <th></th>\n",
       "      <th>ID</th>\n",
       "      <th>Scrape ID</th>\n",
       "      <th>Host ID</th>\n",
       "      <th>Host Response Rate</th>\n",
       "      <th>Host Listings Count</th>\n",
       "      <th>Host Total Listings Count</th>\n",
       "      <th>Latitude</th>\n",
       "      <th>Longitude</th>\n",
       "      <th>Accommodates</th>\n",
       "      <th>Bathrooms</th>\n",
       "      <th>...</th>\n",
       "      <th>Number of Reviews</th>\n",
       "      <th>Review Scores Rating</th>\n",
       "      <th>Review Scores Accuracy</th>\n",
       "      <th>Review Scores Cleanliness</th>\n",
       "      <th>Review Scores Checkin</th>\n",
       "      <th>Review Scores Communication</th>\n",
       "      <th>Review Scores Location</th>\n",
       "      <th>Review Scores Value</th>\n",
       "      <th>Calculated host listings count</th>\n",
       "      <th>Reviews per Month</th>\n",
       "    </tr>\n",
       "  </thead>\n",
       "  <tbody>\n",
       "    <tr>\n",
       "      <th>count</th>\n",
       "      <td>1.478000e+04</td>\n",
       "      <td>1.478000e+04</td>\n",
       "      <td>1.478000e+04</td>\n",
       "      <td>12881.000000</td>\n",
       "      <td>14777.000000</td>\n",
       "      <td>14777.000000</td>\n",
       "      <td>14780.000000</td>\n",
       "      <td>14780.000000</td>\n",
       "      <td>14780.000000</td>\n",
       "      <td>14725.000000</td>\n",
       "      <td>...</td>\n",
       "      <td>14780.000000</td>\n",
       "      <td>11476.000000</td>\n",
       "      <td>11454.000000</td>\n",
       "      <td>11460.000000</td>\n",
       "      <td>11443.000000</td>\n",
       "      <td>11460.000000</td>\n",
       "      <td>11440.000000</td>\n",
       "      <td>11439.000000</td>\n",
       "      <td>14776.000000</td>\n",
       "      <td>11618.000000</td>\n",
       "    </tr>\n",
       "    <tr>\n",
       "      <th>mean</th>\n",
       "      <td>1.028089e+07</td>\n",
       "      <td>2.017037e+13</td>\n",
       "      <td>3.608080e+07</td>\n",
       "      <td>94.823461</td>\n",
       "      <td>12.513636</td>\n",
       "      <td>12.513636</td>\n",
       "      <td>40.497626</td>\n",
       "      <td>-3.858041</td>\n",
       "      <td>3.277808</td>\n",
       "      <td>1.281732</td>\n",
       "      <td>...</td>\n",
       "      <td>22.632273</td>\n",
       "      <td>91.697978</td>\n",
       "      <td>9.416012</td>\n",
       "      <td>9.328883</td>\n",
       "      <td>9.621778</td>\n",
       "      <td>9.647033</td>\n",
       "      <td>9.532168</td>\n",
       "      <td>9.218201</td>\n",
       "      <td>9.486871</td>\n",
       "      <td>1.870014</td>\n",
       "    </tr>\n",
       "    <tr>\n",
       "      <th>std</th>\n",
       "      <td>5.564829e+06</td>\n",
       "      <td>5.667971e+08</td>\n",
       "      <td>3.425360e+07</td>\n",
       "      <td>15.215988</td>\n",
       "      <td>34.090223</td>\n",
       "      <td>34.090223</td>\n",
       "      <td>4.641387</td>\n",
       "      <td>14.123146</td>\n",
       "      <td>2.097291</td>\n",
       "      <td>0.658517</td>\n",
       "      <td>...</td>\n",
       "      <td>38.290244</td>\n",
       "      <td>8.989101</td>\n",
       "      <td>0.921938</td>\n",
       "      <td>0.989933</td>\n",
       "      <td>0.802736</td>\n",
       "      <td>0.767116</td>\n",
       "      <td>0.774527</td>\n",
       "      <td>0.950578</td>\n",
       "      <td>23.626014</td>\n",
       "      <td>1.867550</td>\n",
       "    </tr>\n",
       "    <tr>\n",
       "      <th>min</th>\n",
       "      <td>1.862800e+04</td>\n",
       "      <td>2.016010e+13</td>\n",
       "      <td>1.745300e+04</td>\n",
       "      <td>0.000000</td>\n",
       "      <td>0.000000</td>\n",
       "      <td>0.000000</td>\n",
       "      <td>-37.851182</td>\n",
       "      <td>-123.131344</td>\n",
       "      <td>1.000000</td>\n",
       "      <td>0.000000</td>\n",
       "      <td>...</td>\n",
       "      <td>0.000000</td>\n",
       "      <td>20.000000</td>\n",
       "      <td>2.000000</td>\n",
       "      <td>2.000000</td>\n",
       "      <td>2.000000</td>\n",
       "      <td>2.000000</td>\n",
       "      <td>2.000000</td>\n",
       "      <td>2.000000</td>\n",
       "      <td>1.000000</td>\n",
       "      <td>0.020000</td>\n",
       "    </tr>\n",
       "    <tr>\n",
       "      <th>25%</th>\n",
       "      <td>5.554732e+06</td>\n",
       "      <td>2.017041e+13</td>\n",
       "      <td>6.787360e+06</td>\n",
       "      <td>100.000000</td>\n",
       "      <td>1.000000</td>\n",
       "      <td>1.000000</td>\n",
       "      <td>40.409726</td>\n",
       "      <td>-3.707604</td>\n",
       "      <td>2.000000</td>\n",
       "      <td>1.000000</td>\n",
       "      <td>...</td>\n",
       "      <td>1.000000</td>\n",
       "      <td>89.000000</td>\n",
       "      <td>9.000000</td>\n",
       "      <td>9.000000</td>\n",
       "      <td>9.000000</td>\n",
       "      <td>9.000000</td>\n",
       "      <td>9.000000</td>\n",
       "      <td>9.000000</td>\n",
       "      <td>1.000000</td>\n",
       "      <td>0.450000</td>\n",
       "    </tr>\n",
       "    <tr>\n",
       "      <th>50%</th>\n",
       "      <td>1.133492e+07</td>\n",
       "      <td>2.017041e+13</td>\n",
       "      <td>2.464875e+07</td>\n",
       "      <td>100.000000</td>\n",
       "      <td>2.000000</td>\n",
       "      <td>2.000000</td>\n",
       "      <td>40.419466</td>\n",
       "      <td>-3.700785</td>\n",
       "      <td>3.000000</td>\n",
       "      <td>1.000000</td>\n",
       "      <td>...</td>\n",
       "      <td>7.000000</td>\n",
       "      <td>94.000000</td>\n",
       "      <td>10.000000</td>\n",
       "      <td>10.000000</td>\n",
       "      <td>10.000000</td>\n",
       "      <td>10.000000</td>\n",
       "      <td>10.000000</td>\n",
       "      <td>9.000000</td>\n",
       "      <td>2.000000</td>\n",
       "      <td>1.200000</td>\n",
       "    </tr>\n",
       "    <tr>\n",
       "      <th>75%</th>\n",
       "      <td>1.532631e+07</td>\n",
       "      <td>2.017041e+13</td>\n",
       "      <td>5.432919e+07</td>\n",
       "      <td>100.000000</td>\n",
       "      <td>6.000000</td>\n",
       "      <td>6.000000</td>\n",
       "      <td>40.430916</td>\n",
       "      <td>-3.684057</td>\n",
       "      <td>4.000000</td>\n",
       "      <td>1.000000</td>\n",
       "      <td>...</td>\n",
       "      <td>27.000000</td>\n",
       "      <td>98.000000</td>\n",
       "      <td>10.000000</td>\n",
       "      <td>10.000000</td>\n",
       "      <td>10.000000</td>\n",
       "      <td>10.000000</td>\n",
       "      <td>10.000000</td>\n",
       "      <td>10.000000</td>\n",
       "      <td>5.000000</td>\n",
       "      <td>2.780000</td>\n",
       "    </tr>\n",
       "    <tr>\n",
       "      <th>max</th>\n",
       "      <td>1.910969e+07</td>\n",
       "      <td>2.017062e+13</td>\n",
       "      <td>1.247534e+08</td>\n",
       "      <td>100.000000</td>\n",
       "      <td>519.000000</td>\n",
       "      <td>519.000000</td>\n",
       "      <td>55.966912</td>\n",
       "      <td>153.371427</td>\n",
       "      <td>16.000000</td>\n",
       "      <td>8.000000</td>\n",
       "      <td>...</td>\n",
       "      <td>446.000000</td>\n",
       "      <td>100.000000</td>\n",
       "      <td>10.000000</td>\n",
       "      <td>10.000000</td>\n",
       "      <td>10.000000</td>\n",
       "      <td>10.000000</td>\n",
       "      <td>10.000000</td>\n",
       "      <td>10.000000</td>\n",
       "      <td>145.000000</td>\n",
       "      <td>17.210000</td>\n",
       "    </tr>\n",
       "  </tbody>\n",
       "</table>\n",
       "<p>8 rows × 36 columns</p>\n",
       "</div>"
      ],
      "text/plain": [
       "                 ID     Scrape ID       Host ID  Host Response Rate  \\\n",
       "count  1.478000e+04  1.478000e+04  1.478000e+04        12881.000000   \n",
       "mean   1.028089e+07  2.017037e+13  3.608080e+07           94.823461   \n",
       "std    5.564829e+06  5.667971e+08  3.425360e+07           15.215988   \n",
       "min    1.862800e+04  2.016010e+13  1.745300e+04            0.000000   \n",
       "25%    5.554732e+06  2.017041e+13  6.787360e+06          100.000000   \n",
       "50%    1.133492e+07  2.017041e+13  2.464875e+07          100.000000   \n",
       "75%    1.532631e+07  2.017041e+13  5.432919e+07          100.000000   \n",
       "max    1.910969e+07  2.017062e+13  1.247534e+08          100.000000   \n",
       "\n",
       "       Host Listings Count  Host Total Listings Count      Latitude  \\\n",
       "count         14777.000000               14777.000000  14780.000000   \n",
       "mean             12.513636                  12.513636     40.497626   \n",
       "std              34.090223                  34.090223      4.641387   \n",
       "min               0.000000                   0.000000    -37.851182   \n",
       "25%               1.000000                   1.000000     40.409726   \n",
       "50%               2.000000                   2.000000     40.419466   \n",
       "75%               6.000000                   6.000000     40.430916   \n",
       "max             519.000000                 519.000000     55.966912   \n",
       "\n",
       "          Longitude  Accommodates     Bathrooms  ...  Number of Reviews  \\\n",
       "count  14780.000000  14780.000000  14725.000000  ...       14780.000000   \n",
       "mean      -3.858041      3.277808      1.281732  ...          22.632273   \n",
       "std       14.123146      2.097291      0.658517  ...          38.290244   \n",
       "min     -123.131344      1.000000      0.000000  ...           0.000000   \n",
       "25%       -3.707604      2.000000      1.000000  ...           1.000000   \n",
       "50%       -3.700785      3.000000      1.000000  ...           7.000000   \n",
       "75%       -3.684057      4.000000      1.000000  ...          27.000000   \n",
       "max      153.371427     16.000000      8.000000  ...         446.000000   \n",
       "\n",
       "       Review Scores Rating  Review Scores Accuracy  \\\n",
       "count          11476.000000            11454.000000   \n",
       "mean              91.697978                9.416012   \n",
       "std                8.989101                0.921938   \n",
       "min               20.000000                2.000000   \n",
       "25%               89.000000                9.000000   \n",
       "50%               94.000000               10.000000   \n",
       "75%               98.000000               10.000000   \n",
       "max              100.000000               10.000000   \n",
       "\n",
       "       Review Scores Cleanliness  Review Scores Checkin  \\\n",
       "count               11460.000000           11443.000000   \n",
       "mean                    9.328883               9.621778   \n",
       "std                     0.989933               0.802736   \n",
       "min                     2.000000               2.000000   \n",
       "25%                     9.000000               9.000000   \n",
       "50%                    10.000000              10.000000   \n",
       "75%                    10.000000              10.000000   \n",
       "max                    10.000000              10.000000   \n",
       "\n",
       "       Review Scores Communication  Review Scores Location  \\\n",
       "count                 11460.000000            11440.000000   \n",
       "mean                      9.647033                9.532168   \n",
       "std                       0.767116                0.774527   \n",
       "min                       2.000000                2.000000   \n",
       "25%                       9.000000                9.000000   \n",
       "50%                      10.000000               10.000000   \n",
       "75%                      10.000000               10.000000   \n",
       "max                      10.000000               10.000000   \n",
       "\n",
       "       Review Scores Value  Calculated host listings count  Reviews per Month  \n",
       "count         11439.000000                    14776.000000       11618.000000  \n",
       "mean              9.218201                        9.486871           1.870014  \n",
       "std               0.950578                       23.626014           1.867550  \n",
       "min               2.000000                        1.000000           0.020000  \n",
       "25%               9.000000                        1.000000           0.450000  \n",
       "50%               9.000000                        2.000000           1.200000  \n",
       "75%              10.000000                        5.000000           2.780000  \n",
       "max              10.000000                      145.000000          17.210000  \n",
       "\n",
       "[8 rows x 36 columns]"
      ]
     },
     "execution_count": 3,
     "metadata": {},
     "output_type": "execute_result"
    }
   ],
   "source": [
    "data.describe()"
   ]
  },
  {
   "cell_type": "code",
   "execution_count": 4,
   "metadata": {
    "scrolled": true
   },
   "outputs": [
    {
     "data": {
      "text/html": [
       "<div>\n",
       "<style scoped>\n",
       "    .dataframe tbody tr th:only-of-type {\n",
       "        vertical-align: middle;\n",
       "    }\n",
       "\n",
       "    .dataframe tbody tr th {\n",
       "        vertical-align: top;\n",
       "    }\n",
       "\n",
       "    .dataframe thead th {\n",
       "        text-align: right;\n",
       "    }\n",
       "</style>\n",
       "<table border=\"1\" class=\"dataframe\">\n",
       "  <thead>\n",
       "    <tr style=\"text-align: right;\">\n",
       "      <th></th>\n",
       "      <th>ID</th>\n",
       "      <th>Listing Url</th>\n",
       "      <th>Scrape ID</th>\n",
       "      <th>Last Scraped</th>\n",
       "      <th>Name</th>\n",
       "      <th>Summary</th>\n",
       "      <th>Space</th>\n",
       "      <th>Description</th>\n",
       "      <th>Experiences Offered</th>\n",
       "      <th>Neighborhood Overview</th>\n",
       "      <th>...</th>\n",
       "      <th>Review Scores Communication</th>\n",
       "      <th>Review Scores Location</th>\n",
       "      <th>Review Scores Value</th>\n",
       "      <th>License</th>\n",
       "      <th>Jurisdiction Names</th>\n",
       "      <th>Cancellation Policy</th>\n",
       "      <th>Calculated host listings count</th>\n",
       "      <th>Reviews per Month</th>\n",
       "      <th>Geolocation</th>\n",
       "      <th>Features</th>\n",
       "    </tr>\n",
       "  </thead>\n",
       "  <tbody>\n",
       "    <tr>\n",
       "      <th>0</th>\n",
       "      <td>11210388</td>\n",
       "      <td>https://www.airbnb.com/rooms/11210388</td>\n",
       "      <td>20170306202425</td>\n",
       "      <td>2017-03-07</td>\n",
       "      <td>The Loft-Full Bath-Deck w/View</td>\n",
       "      <td>Loft in the Hill country 12-15 minutes directl...</td>\n",
       "      <td>This loft has a spectacular view of the hills ...</td>\n",
       "      <td>Loft in the Hill country 12-15 minutes directl...</td>\n",
       "      <td>none</td>\n",
       "      <td>This neighborhood is located in the hills west...</td>\n",
       "      <td>...</td>\n",
       "      <td>10.0</td>\n",
       "      <td>10.0</td>\n",
       "      <td>10.0</td>\n",
       "      <td>NaN</td>\n",
       "      <td>NaN</td>\n",
       "      <td>moderate</td>\n",
       "      <td>1.0</td>\n",
       "      <td>3.50</td>\n",
       "      <td>30.3373609355,-97.8632766782</td>\n",
       "      <td>Host Is Superhost,Host Has Profile Pic,Host Id...</td>\n",
       "    </tr>\n",
       "    <tr>\n",
       "      <th>1</th>\n",
       "      <td>17471131</td>\n",
       "      <td>https://www.airbnb.com/rooms/17471131</td>\n",
       "      <td>20170407214050</td>\n",
       "      <td>2017-04-08</td>\n",
       "      <td>Claris I, Friendly Rentals</td>\n",
       "      <td>This apartment has: 1 double bed, 1 double sof...</td>\n",
       "      <td>This apartment has: 1 double bed, 1 double sof...</td>\n",
       "      <td>This apartment has: 1 double bed, 1 double sof...</td>\n",
       "      <td>none</td>\n",
       "      <td>Plaza   Cataluña Catalonia Square is the large...</td>\n",
       "      <td>...</td>\n",
       "      <td>10.0</td>\n",
       "      <td>8.0</td>\n",
       "      <td>10.0</td>\n",
       "      <td>HUTB-006721</td>\n",
       "      <td>NaN</td>\n",
       "      <td>super_strict_30</td>\n",
       "      <td>106.0</td>\n",
       "      <td>0.86</td>\n",
       "      <td>41.3896829422,2.17262543017</td>\n",
       "      <td>Host Has Profile Pic,Requires License,Instant ...</td>\n",
       "    </tr>\n",
       "    <tr>\n",
       "      <th>2</th>\n",
       "      <td>17584891</td>\n",
       "      <td>https://www.airbnb.com/rooms/17584891</td>\n",
       "      <td>20170407214050</td>\n",
       "      <td>2017-04-08</td>\n",
       "      <td>Style Terrace Red, Friendly Rentals</td>\n",
       "      <td>This apartment has: 1 double bed, 1 double sof...</td>\n",
       "      <td>This apartment has: 1 double bed, 1 double sof...</td>\n",
       "      <td>This apartment has: 1 double bed, 1 double sof...</td>\n",
       "      <td>none</td>\n",
       "      <td>Plaza   Cataluña Catalonia Square is the large...</td>\n",
       "      <td>...</td>\n",
       "      <td>NaN</td>\n",
       "      <td>NaN</td>\n",
       "      <td>NaN</td>\n",
       "      <td>HUTB-007527</td>\n",
       "      <td>NaN</td>\n",
       "      <td>super_strict_30</td>\n",
       "      <td>106.0</td>\n",
       "      <td>NaN</td>\n",
       "      <td>41.3930345489,2.16217327868</td>\n",
       "      <td>Host Has Profile Pic,Requires License,Instant ...</td>\n",
       "    </tr>\n",
       "    <tr>\n",
       "      <th>3</th>\n",
       "      <td>5398030</td>\n",
       "      <td>https://www.airbnb.com/rooms/5398030</td>\n",
       "      <td>20170407214050</td>\n",
       "      <td>2017-04-08</td>\n",
       "      <td>Picasso Suite 1.4 Paseo de Gracia</td>\n",
       "      <td>Live like a local in Barcelona's most chic dis...</td>\n",
       "      <td>You wake up to the sun rising over Barcelona's...</td>\n",
       "      <td>Live like a local in Barcelona's most chic dis...</td>\n",
       "      <td>none</td>\n",
       "      <td>We're right in the heart of the chic L'Eixampl...</td>\n",
       "      <td>...</td>\n",
       "      <td>10.0</td>\n",
       "      <td>10.0</td>\n",
       "      <td>9.0</td>\n",
       "      <td>NaN</td>\n",
       "      <td>NaN</td>\n",
       "      <td>strict</td>\n",
       "      <td>24.0</td>\n",
       "      <td>1.09</td>\n",
       "      <td>41.3969668101,2.1674178103</td>\n",
       "      <td>Host Has Profile Pic,Host Identity Verified,Re...</td>\n",
       "    </tr>\n",
       "    <tr>\n",
       "      <th>4</th>\n",
       "      <td>18104606</td>\n",
       "      <td>https://www.airbnb.com/rooms/18104606</td>\n",
       "      <td>20170407214050</td>\n",
       "      <td>2017-04-08</td>\n",
       "      <td>Smart City Centre Apartment II</td>\n",
       "      <td>Unique apartment in vibrant neighborhoods, car...</td>\n",
       "      <td>License: HUTB-005313 Charming apartment, locat...</td>\n",
       "      <td>Unique apartment in vibrant neighborhoods, car...</td>\n",
       "      <td>none</td>\n",
       "      <td>NaN</td>\n",
       "      <td>...</td>\n",
       "      <td>NaN</td>\n",
       "      <td>NaN</td>\n",
       "      <td>NaN</td>\n",
       "      <td>NaN</td>\n",
       "      <td>NaN</td>\n",
       "      <td>flexible</td>\n",
       "      <td>92.0</td>\n",
       "      <td>NaN</td>\n",
       "      <td>41.3886851936,2.15514963616</td>\n",
       "      <td>Host Has Profile Pic,Host Identity Verified,Is...</td>\n",
       "    </tr>\n",
       "  </tbody>\n",
       "</table>\n",
       "<p>5 rows × 89 columns</p>\n",
       "</div>"
      ],
      "text/plain": [
       "         ID                            Listing Url       Scrape ID  \\\n",
       "0  11210388  https://www.airbnb.com/rooms/11210388  20170306202425   \n",
       "1  17471131  https://www.airbnb.com/rooms/17471131  20170407214050   \n",
       "2  17584891  https://www.airbnb.com/rooms/17584891  20170407214050   \n",
       "3   5398030   https://www.airbnb.com/rooms/5398030  20170407214050   \n",
       "4  18104606  https://www.airbnb.com/rooms/18104606  20170407214050   \n",
       "\n",
       "  Last Scraped                                 Name  \\\n",
       "0   2017-03-07       The Loft-Full Bath-Deck w/View   \n",
       "1   2017-04-08           Claris I, Friendly Rentals   \n",
       "2   2017-04-08  Style Terrace Red, Friendly Rentals   \n",
       "3   2017-04-08    Picasso Suite 1.4 Paseo de Gracia   \n",
       "4   2017-04-08       Smart City Centre Apartment II   \n",
       "\n",
       "                                             Summary  \\\n",
       "0  Loft in the Hill country 12-15 minutes directl...   \n",
       "1  This apartment has: 1 double bed, 1 double sof...   \n",
       "2  This apartment has: 1 double bed, 1 double sof...   \n",
       "3  Live like a local in Barcelona's most chic dis...   \n",
       "4  Unique apartment in vibrant neighborhoods, car...   \n",
       "\n",
       "                                               Space  \\\n",
       "0  This loft has a spectacular view of the hills ...   \n",
       "1  This apartment has: 1 double bed, 1 double sof...   \n",
       "2  This apartment has: 1 double bed, 1 double sof...   \n",
       "3  You wake up to the sun rising over Barcelona's...   \n",
       "4  License: HUTB-005313 Charming apartment, locat...   \n",
       "\n",
       "                                         Description Experiences Offered  \\\n",
       "0  Loft in the Hill country 12-15 minutes directl...                none   \n",
       "1  This apartment has: 1 double bed, 1 double sof...                none   \n",
       "2  This apartment has: 1 double bed, 1 double sof...                none   \n",
       "3  Live like a local in Barcelona's most chic dis...                none   \n",
       "4  Unique apartment in vibrant neighborhoods, car...                none   \n",
       "\n",
       "                               Neighborhood Overview  ...  \\\n",
       "0  This neighborhood is located in the hills west...  ...   \n",
       "1  Plaza   Cataluña Catalonia Square is the large...  ...   \n",
       "2  Plaza   Cataluña Catalonia Square is the large...  ...   \n",
       "3  We're right in the heart of the chic L'Eixampl...  ...   \n",
       "4                                                NaN  ...   \n",
       "\n",
       "  Review Scores Communication Review Scores Location Review Scores Value  \\\n",
       "0                        10.0                   10.0                10.0   \n",
       "1                        10.0                    8.0                10.0   \n",
       "2                         NaN                    NaN                 NaN   \n",
       "3                        10.0                   10.0                 9.0   \n",
       "4                         NaN                    NaN                 NaN   \n",
       "\n",
       "       License Jurisdiction Names Cancellation Policy  \\\n",
       "0          NaN                NaN            moderate   \n",
       "1  HUTB-006721                NaN     super_strict_30   \n",
       "2  HUTB-007527                NaN     super_strict_30   \n",
       "3          NaN                NaN              strict   \n",
       "4          NaN                NaN            flexible   \n",
       "\n",
       "  Calculated host listings count Reviews per Month  \\\n",
       "0                            1.0              3.50   \n",
       "1                          106.0              0.86   \n",
       "2                          106.0               NaN   \n",
       "3                           24.0              1.09   \n",
       "4                           92.0               NaN   \n",
       "\n",
       "                    Geolocation  \\\n",
       "0  30.3373609355,-97.8632766782   \n",
       "1   41.3896829422,2.17262543017   \n",
       "2   41.3930345489,2.16217327868   \n",
       "3    41.3969668101,2.1674178103   \n",
       "4   41.3886851936,2.15514963616   \n",
       "\n",
       "                                            Features  \n",
       "0  Host Is Superhost,Host Has Profile Pic,Host Id...  \n",
       "1  Host Has Profile Pic,Requires License,Instant ...  \n",
       "2  Host Has Profile Pic,Requires License,Instant ...  \n",
       "3  Host Has Profile Pic,Host Identity Verified,Re...  \n",
       "4  Host Has Profile Pic,Host Identity Verified,Is...  \n",
       "\n",
       "[5 rows x 89 columns]"
      ]
     },
     "execution_count": 4,
     "metadata": {},
     "output_type": "execute_result"
    }
   ],
   "source": [
    "data.head()"
   ]
  },
  {
   "cell_type": "markdown",
   "metadata": {},
   "source": [
    "Tenemos tantas variables que no nos salen todas en la tabla, antes de nada arreglaremos algunas variables para poder analizarlas mejor luego."
   ]
  },
  {
   "cell_type": "markdown",
   "metadata": {},
   "source": [
    "# 2. Transformacion y eliminación de los datos."
   ]
  },
  {
   "cell_type": "markdown",
   "metadata": {},
   "source": [
    "## A) Selección de variables"
   ]
  },
  {
   "cell_type": "markdown",
   "metadata": {},
   "source": [
    "Antes de eliminar nada primero veremos que variables son categoricas viendo cuánto se repiten y que tipo de variables son."
   ]
  },
  {
   "cell_type": "code",
   "execution_count": 5,
   "metadata": {
    "scrolled": true
   },
   "outputs": [
    {
     "name": "stdout",
     "output_type": "stream",
     "text": [
      "No.of.unique values of 'ID': 14780\n",
      "No.of.unique values of 'Listing Url': 14780\n",
      "No.of.unique values of 'Scrape ID': 38\n",
      "No.of.unique values of 'Last Scraped': 37\n",
      "No.of.unique values of 'Name': 14376\n",
      "No.of.unique values of 'Summary': 13290\n",
      "No.of.unique values of 'Space': 10175\n",
      "No.of.unique values of 'Description': 14282\n",
      "No.of.unique values of 'Experiences Offered': 5\n",
      "No.of.unique values of 'Neighborhood Overview': 7913\n",
      "No.of.unique values of 'Notes': 4653\n",
      "No.of.unique values of 'Transit': 7840\n",
      "No.of.unique values of 'Access': 7129\n",
      "No.of.unique values of 'Interaction': 6586\n",
      "No.of.unique values of 'House Rules': 8031\n",
      "No.of.unique values of 'Thumbnail Url': 11958\n",
      "No.of.unique values of 'Medium Url': 11958\n",
      "No.of.unique values of 'Picture Url': 14758\n",
      "No.of.unique values of 'XL Picture Url': 11958\n",
      "No.of.unique values of 'Host ID': 8935\n",
      "No.of.unique values of 'Host URL': 8935\n",
      "No.of.unique values of 'Host Name': 3277\n",
      "No.of.unique values of 'Host Since': 2117\n",
      "No.of.unique values of 'Host Location': 569\n",
      "No.of.unique values of 'Host About': 5008\n",
      "No.of.unique values of 'Host Response Time': 5\n",
      "No.of.unique values of 'Host Response Rate': 71\n",
      "No.of.unique values of 'Host Acceptance Rate': 13\n",
      "No.of.unique values of 'Host Thumbnail Url': 8894\n",
      "No.of.unique values of 'Host Picture Url': 8894\n",
      "No.of.unique values of 'Host Neighbourhood': 396\n",
      "No.of.unique values of 'Host Listings Count': 57\n",
      "No.of.unique values of 'Host Total Listings Count': 57\n",
      "No.of.unique values of 'Host Verifications': 207\n",
      "No.of.unique values of 'Street': 1646\n",
      "No.of.unique values of 'Neighbourhood': 391\n",
      "No.of.unique values of 'Neighbourhood Cleansed': 478\n",
      "No.of.unique values of 'Neighbourhood Group Cleansed': 50\n",
      "No.of.unique values of 'City': 247\n",
      "No.of.unique values of 'State': 103\n",
      "No.of.unique values of 'Zipcode': 620\n",
      "No.of.unique values of 'Market': 44\n",
      "No.of.unique values of 'Smart Location': 257\n",
      "No.of.unique values of 'Country Code': 18\n",
      "No.of.unique values of 'Country': 18\n",
      "No.of.unique values of 'Latitude': 14780\n",
      "No.of.unique values of 'Longitude': 14780\n",
      "No.of.unique values of 'Property Type': 22\n",
      "No.of.unique values of 'Room Type': 3\n",
      "No.of.unique values of 'Accommodates': 16\n",
      "No.of.unique values of 'Bathrooms': 18\n",
      "No.of.unique values of 'Bedrooms': 11\n",
      "No.of.unique values of 'Beds': 17\n",
      "No.of.unique values of 'Bed Type': 5\n",
      "No.of.unique values of 'Amenities': 12380\n",
      "No.of.unique values of 'Square Feet': 104\n",
      "No.of.unique values of 'Price': 371\n",
      "No.of.unique values of 'Weekly Price': 389\n",
      "No.of.unique values of 'Monthly Price': 587\n",
      "No.of.unique values of 'Security Deposit': 125\n",
      "No.of.unique values of 'Cleaning Fee': 112\n",
      "No.of.unique values of 'Guests Included': 15\n",
      "No.of.unique values of 'Extra People': 68\n",
      "No.of.unique values of 'Minimum Nights': 43\n",
      "No.of.unique values of 'Maximum Nights': 173\n",
      "No.of.unique values of 'Calendar Updated': 57\n",
      "No.of.unique values of 'Has Availability': 2\n",
      "No.of.unique values of 'Availability 30': 31\n",
      "No.of.unique values of 'Availability 60': 61\n",
      "No.of.unique values of 'Availability 90': 91\n",
      "No.of.unique values of 'Availability 365': 366\n",
      "No.of.unique values of 'Calendar last Scraped': 38\n",
      "No.of.unique values of 'Number of Reviews': 263\n",
      "No.of.unique values of 'First Review': 1680\n",
      "No.of.unique values of 'Last Review': 786\n",
      "No.of.unique values of 'Review Scores Rating': 55\n",
      "No.of.unique values of 'Review Scores Accuracy': 10\n",
      "No.of.unique values of 'Review Scores Cleanliness': 10\n",
      "No.of.unique values of 'Review Scores Checkin': 10\n",
      "No.of.unique values of 'Review Scores Communication': 9\n",
      "No.of.unique values of 'Review Scores Location': 9\n",
      "No.of.unique values of 'Review Scores Value': 10\n",
      "No.of.unique values of 'License': 317\n",
      "No.of.unique values of 'Jurisdiction Names': 13\n",
      "No.of.unique values of 'Cancellation Policy': 8\n",
      "No.of.unique values of 'Calculated host listings count': 46\n",
      "No.of.unique values of 'Reviews per Month': 842\n",
      "No.of.unique values of 'Geolocation': 14780\n",
      "No.of.unique values of 'Features': 89\n"
     ]
    }
   ],
   "source": [
    "for i in data.columns:\n",
    "    n = len(pd.unique(data[i]))\n",
    "    print(\"No.of.unique values of '\"+i+\"':\", n)"
   ]
  },
  {
   "cell_type": "code",
   "execution_count": 6,
   "metadata": {
    "scrolled": true
   },
   "outputs": [
    {
     "data": {
      "text/plain": [
       "ID                                  int64\n",
       "Listing Url                        object\n",
       "Scrape ID                           int64\n",
       "Last Scraped                       object\n",
       "Name                               object\n",
       "                                   ...   \n",
       "Cancellation Policy                object\n",
       "Calculated host listings count    float64\n",
       "Reviews per Month                 float64\n",
       "Geolocation                        object\n",
       "Features                           object\n",
       "Length: 89, dtype: object"
      ]
     },
     "execution_count": 6,
     "metadata": {},
     "output_type": "execute_result"
    }
   ],
   "source": [
    "data.dtypes"
   ]
  },
  {
   "cell_type": "markdown",
   "metadata": {},
   "source": [
    "La variable regresora que queremos obtener será el precio."
   ]
  },
  {
   "cell_type": "code",
   "execution_count": 7,
   "metadata": {},
   "outputs": [],
   "source": [
    "y = data['Price']"
   ]
  },
  {
   "cell_type": "markdown",
   "metadata": {},
   "source": [
    "Escogemos las variables con las que nos quedamos, algunas variables las eliminamos por ser muy parecidas, otras por no aportar información del problema y otras como 'Monthly Price' por ser hasta cierto punto lo que queremos obtener."
   ]
  },
  {
   "cell_type": "code",
   "execution_count": 8,
   "metadata": {},
   "outputs": [],
   "source": [
    "data=data[['Host Since','Host Response Rate','Host Acceptance Rate',\n",
    "            'Host Listings Count','Host Total Listings Count',\n",
    "            'Host Verifications','Market','Property Type','Room Type',\n",
    "            'Accommodates','Bathrooms','Bedrooms','Beds','Bed Type',\n",
    "            'Amenities','Square Feet',\n",
    "            'Cleaning Fee','Guests Included','Extra People','Minimum Nights',\n",
    "            'Maximum Nights','Availability 365','Number of Reviews',\n",
    "            'Review Scores Rating','License','Cancellation Policy',\n",
    "             'Calculated host listings count','Reviews per Month','Geolocation',\n",
    "             'Features','Latitude','Longitude']\n",
    "            ]"
   ]
  },
  {
   "cell_type": "code",
   "execution_count": 9,
   "metadata": {
    "scrolled": true
   },
   "outputs": [
    {
     "data": {
      "text/plain": [
       "(14780, 32)"
      ]
     },
     "execution_count": 9,
     "metadata": {},
     "output_type": "execute_result"
    }
   ],
   "source": [
    "data.shape"
   ]
  },
  {
   "cell_type": "code",
   "execution_count": 10,
   "metadata": {},
   "outputs": [
    {
     "data": {
      "text/html": [
       "<div>\n",
       "<style scoped>\n",
       "    .dataframe tbody tr th:only-of-type {\n",
       "        vertical-align: middle;\n",
       "    }\n",
       "\n",
       "    .dataframe tbody tr th {\n",
       "        vertical-align: top;\n",
       "    }\n",
       "\n",
       "    .dataframe thead th {\n",
       "        text-align: right;\n",
       "    }\n",
       "</style>\n",
       "<table border=\"1\" class=\"dataframe\">\n",
       "  <thead>\n",
       "    <tr style=\"text-align: right;\">\n",
       "      <th></th>\n",
       "      <th>Host Since</th>\n",
       "      <th>Host Response Rate</th>\n",
       "      <th>Host Acceptance Rate</th>\n",
       "      <th>Host Listings Count</th>\n",
       "      <th>Host Total Listings Count</th>\n",
       "      <th>Host Verifications</th>\n",
       "      <th>Market</th>\n",
       "      <th>Property Type</th>\n",
       "      <th>Room Type</th>\n",
       "      <th>Accommodates</th>\n",
       "      <th>...</th>\n",
       "      <th>Number of Reviews</th>\n",
       "      <th>Review Scores Rating</th>\n",
       "      <th>License</th>\n",
       "      <th>Cancellation Policy</th>\n",
       "      <th>Calculated host listings count</th>\n",
       "      <th>Reviews per Month</th>\n",
       "      <th>Geolocation</th>\n",
       "      <th>Features</th>\n",
       "      <th>Latitude</th>\n",
       "      <th>Longitude</th>\n",
       "    </tr>\n",
       "  </thead>\n",
       "  <tbody>\n",
       "    <tr>\n",
       "      <th>0</th>\n",
       "      <td>2016-02-11</td>\n",
       "      <td>100.0</td>\n",
       "      <td>NaN</td>\n",
       "      <td>1.0</td>\n",
       "      <td>1.0</td>\n",
       "      <td>email,phone,reviews,kba</td>\n",
       "      <td>Austin</td>\n",
       "      <td>Loft</td>\n",
       "      <td>Entire home/apt</td>\n",
       "      <td>2</td>\n",
       "      <td>...</td>\n",
       "      <td>42</td>\n",
       "      <td>98.0</td>\n",
       "      <td>NaN</td>\n",
       "      <td>moderate</td>\n",
       "      <td>1.0</td>\n",
       "      <td>3.50</td>\n",
       "      <td>30.3373609355,-97.8632766782</td>\n",
       "      <td>Host Is Superhost,Host Has Profile Pic,Host Id...</td>\n",
       "      <td>30.337361</td>\n",
       "      <td>-97.863277</td>\n",
       "    </tr>\n",
       "    <tr>\n",
       "      <th>1</th>\n",
       "      <td>2016-11-08</td>\n",
       "      <td>100.0</td>\n",
       "      <td>NaN</td>\n",
       "      <td>162.0</td>\n",
       "      <td>162.0</td>\n",
       "      <td>email,phone,reviews,work_email</td>\n",
       "      <td>Barcelona</td>\n",
       "      <td>Apartment</td>\n",
       "      <td>Entire home/apt</td>\n",
       "      <td>4</td>\n",
       "      <td>...</td>\n",
       "      <td>1</td>\n",
       "      <td>80.0</td>\n",
       "      <td>HUTB-006721</td>\n",
       "      <td>super_strict_30</td>\n",
       "      <td>106.0</td>\n",
       "      <td>0.86</td>\n",
       "      <td>41.3896829422,2.17262543017</td>\n",
       "      <td>Host Has Profile Pic,Requires License,Instant ...</td>\n",
       "      <td>41.389683</td>\n",
       "      <td>2.172625</td>\n",
       "    </tr>\n",
       "    <tr>\n",
       "      <th>2</th>\n",
       "      <td>2016-11-08</td>\n",
       "      <td>100.0</td>\n",
       "      <td>NaN</td>\n",
       "      <td>162.0</td>\n",
       "      <td>162.0</td>\n",
       "      <td>email,phone,reviews,work_email</td>\n",
       "      <td>Barcelona</td>\n",
       "      <td>Apartment</td>\n",
       "      <td>Entire home/apt</td>\n",
       "      <td>4</td>\n",
       "      <td>...</td>\n",
       "      <td>0</td>\n",
       "      <td>NaN</td>\n",
       "      <td>HUTB-007527</td>\n",
       "      <td>super_strict_30</td>\n",
       "      <td>106.0</td>\n",
       "      <td>NaN</td>\n",
       "      <td>41.3930345489,2.16217327868</td>\n",
       "      <td>Host Has Profile Pic,Requires License,Instant ...</td>\n",
       "      <td>41.393035</td>\n",
       "      <td>2.162173</td>\n",
       "    </tr>\n",
       "    <tr>\n",
       "      <th>3</th>\n",
       "      <td>2010-05-25</td>\n",
       "      <td>100.0</td>\n",
       "      <td>NaN</td>\n",
       "      <td>27.0</td>\n",
       "      <td>27.0</td>\n",
       "      <td>email,phone,facebook,reviews,manual_offline,ju...</td>\n",
       "      <td>Barcelona</td>\n",
       "      <td>Apartment</td>\n",
       "      <td>Entire home/apt</td>\n",
       "      <td>8</td>\n",
       "      <td>...</td>\n",
       "      <td>13</td>\n",
       "      <td>92.0</td>\n",
       "      <td>NaN</td>\n",
       "      <td>strict</td>\n",
       "      <td>24.0</td>\n",
       "      <td>1.09</td>\n",
       "      <td>41.3969668101,2.1674178103</td>\n",
       "      <td>Host Has Profile Pic,Host Identity Verified,Re...</td>\n",
       "      <td>41.396967</td>\n",
       "      <td>2.167418</td>\n",
       "    </tr>\n",
       "    <tr>\n",
       "      <th>4</th>\n",
       "      <td>2016-01-12</td>\n",
       "      <td>99.0</td>\n",
       "      <td>NaN</td>\n",
       "      <td>207.0</td>\n",
       "      <td>207.0</td>\n",
       "      <td>email,phone,reviews,jumio</td>\n",
       "      <td>Barcelona</td>\n",
       "      <td>Apartment</td>\n",
       "      <td>Entire home/apt</td>\n",
       "      <td>5</td>\n",
       "      <td>...</td>\n",
       "      <td>0</td>\n",
       "      <td>NaN</td>\n",
       "      <td>NaN</td>\n",
       "      <td>flexible</td>\n",
       "      <td>92.0</td>\n",
       "      <td>NaN</td>\n",
       "      <td>41.3886851936,2.15514963616</td>\n",
       "      <td>Host Has Profile Pic,Host Identity Verified,Is...</td>\n",
       "      <td>41.388685</td>\n",
       "      <td>2.155150</td>\n",
       "    </tr>\n",
       "  </tbody>\n",
       "</table>\n",
       "<p>5 rows × 32 columns</p>\n",
       "</div>"
      ],
      "text/plain": [
       "   Host Since  Host Response Rate Host Acceptance Rate  Host Listings Count  \\\n",
       "0  2016-02-11               100.0                  NaN                  1.0   \n",
       "1  2016-11-08               100.0                  NaN                162.0   \n",
       "2  2016-11-08               100.0                  NaN                162.0   \n",
       "3  2010-05-25               100.0                  NaN                 27.0   \n",
       "4  2016-01-12                99.0                  NaN                207.0   \n",
       "\n",
       "   Host Total Listings Count  \\\n",
       "0                        1.0   \n",
       "1                      162.0   \n",
       "2                      162.0   \n",
       "3                       27.0   \n",
       "4                      207.0   \n",
       "\n",
       "                                  Host Verifications     Market Property Type  \\\n",
       "0                            email,phone,reviews,kba     Austin          Loft   \n",
       "1                     email,phone,reviews,work_email  Barcelona     Apartment   \n",
       "2                     email,phone,reviews,work_email  Barcelona     Apartment   \n",
       "3  email,phone,facebook,reviews,manual_offline,ju...  Barcelona     Apartment   \n",
       "4                          email,phone,reviews,jumio  Barcelona     Apartment   \n",
       "\n",
       "         Room Type  Accommodates  ...  Number of Reviews  \\\n",
       "0  Entire home/apt             2  ...                 42   \n",
       "1  Entire home/apt             4  ...                  1   \n",
       "2  Entire home/apt             4  ...                  0   \n",
       "3  Entire home/apt             8  ...                 13   \n",
       "4  Entire home/apt             5  ...                  0   \n",
       "\n",
       "   Review Scores Rating      License Cancellation Policy  \\\n",
       "0                  98.0          NaN            moderate   \n",
       "1                  80.0  HUTB-006721     super_strict_30   \n",
       "2                   NaN  HUTB-007527     super_strict_30   \n",
       "3                  92.0          NaN              strict   \n",
       "4                   NaN          NaN            flexible   \n",
       "\n",
       "  Calculated host listings count  Reviews per Month  \\\n",
       "0                            1.0               3.50   \n",
       "1                          106.0               0.86   \n",
       "2                          106.0                NaN   \n",
       "3                           24.0               1.09   \n",
       "4                           92.0                NaN   \n",
       "\n",
       "                    Geolocation  \\\n",
       "0  30.3373609355,-97.8632766782   \n",
       "1   41.3896829422,2.17262543017   \n",
       "2   41.3930345489,2.16217327868   \n",
       "3    41.3969668101,2.1674178103   \n",
       "4   41.3886851936,2.15514963616   \n",
       "\n",
       "                                            Features   Latitude  Longitude  \n",
       "0  Host Is Superhost,Host Has Profile Pic,Host Id...  30.337361 -97.863277  \n",
       "1  Host Has Profile Pic,Requires License,Instant ...  41.389683   2.172625  \n",
       "2  Host Has Profile Pic,Requires License,Instant ...  41.393035   2.162173  \n",
       "3  Host Has Profile Pic,Host Identity Verified,Re...  41.396967   2.167418  \n",
       "4  Host Has Profile Pic,Host Identity Verified,Is...  41.388685   2.155150  \n",
       "\n",
       "[5 rows x 32 columns]"
      ]
     },
     "execution_count": 10,
     "metadata": {},
     "output_type": "execute_result"
    }
   ],
   "source": [
    "data.head()"
   ]
  },
  {
   "cell_type": "markdown",
   "metadata": {},
   "source": [
    "Hemos quitado bastante paja, algunas variables las hemos eliminado por ser sumas de otras, por ser muy parecido a otras etc."
   ]
  },
  {
   "cell_type": "markdown",
   "metadata": {},
   "source": [
    "## B) Matriz de correlación en variables continuas."
   ]
  },
  {
   "cell_type": "code",
   "execution_count": 11,
   "metadata": {},
   "outputs": [],
   "source": [
    "list_var_continuous = list(data.select_dtypes('float').columns)+list(data.select_dtypes('int').columns)"
   ]
  },
  {
   "cell_type": "markdown",
   "metadata": {},
   "source": [
    "Hagamos la matriz de correlación para ver si algunas variables aportan información similar a nuestro modelo de regresión, lo que permitiría eliminar algunas variables"
   ]
  },
  {
   "cell_type": "code",
   "execution_count": 12,
   "metadata": {},
   "outputs": [],
   "source": [
    "import funciones_auxiliares"
   ]
  },
  {
   "cell_type": "code",
   "execution_count": 13,
   "metadata": {
    "scrolled": true
   },
   "outputs": [
    {
     "data": {
      "image/png": "[encoded data removed]",
      "text/plain": [
       "<Figure size 720x576 with 2 Axes>"
      ]
     },
     "metadata": {},
     "output_type": "display_data"
    },
    {
     "data": {
      "text/plain": [
       "0"
      ]
     },
     "execution_count": 13,
     "metadata": {},
     "output_type": "execute_result"
    }
   ],
   "source": [
    "funciones_auxiliares.get_corr_matrix(dataset = data[list_var_continuous], metodo='spearman', size_figure=[10,8])"
   ]
  },
  {
   "cell_type": "markdown",
   "metadata": {},
   "source": [
    "Con un simple análisis cualitativo parece claro que 3 variables (las relacionadas tienen una correlaión perfecta por lo que podemos prescindir e dos de ellas y simplificar algo el modelo"
   ]
  },
  {
   "cell_type": "code",
   "execution_count": 14,
   "metadata": {},
   "outputs": [],
   "source": [
    "data = data.drop(['Host Total Listings Count', 'Host Listings Count'], axis = 1)"
   ]
  },
  {
   "cell_type": "code",
   "execution_count": 15,
   "metadata": {},
   "outputs": [
    {
     "data": {
      "text/plain": [
       "Index(['Host Since', 'Host Response Rate', 'Host Acceptance Rate',\n",
       "       'Host Verifications', 'Market', 'Property Type', 'Room Type',\n",
       "       'Accommodates', 'Bathrooms', 'Bedrooms', 'Beds', 'Bed Type',\n",
       "       'Amenities', 'Square Feet', 'Cleaning Fee', 'Guests Included',\n",
       "       'Extra People', 'Minimum Nights', 'Maximum Nights', 'Availability 365',\n",
       "       'Number of Reviews', 'Review Scores Rating', 'License',\n",
       "       'Cancellation Policy', 'Calculated host listings count',\n",
       "       'Reviews per Month', 'Geolocation', 'Features', 'Latitude',\n",
       "       'Longitude'],\n",
       "      dtype='object')"
      ]
     },
     "execution_count": 15,
     "metadata": {},
     "output_type": "execute_result"
    }
   ],
   "source": [
    "data.columns"
   ]
  },
  {
   "cell_type": "markdown",
   "metadata": {},
   "source": [
    "# 3.Transformación de variables."
   ]
  },
  {
   "cell_type": "markdown",
   "metadata": {},
   "source": [
    "### 3.1. Cancellation Policy.\n",
    "Utilizaremos los cuantiles para poder distibuir los valores en cuatro categorías"
   ]
  },
  {
   "cell_type": "markdown",
   "metadata": {},
   "source": [
    "Póliza de cancelación"
   ]
  },
  {
   "cell_type": "code",
   "execution_count": 16,
   "metadata": {},
   "outputs": [
    {
     "data": {
      "text/plain": [
       "strict             5742\n",
       "flexible           4671\n",
       "moderate           4248\n",
       "strict_new           34\n",
       "super_strict_60      32\n",
       "moderate_new         20\n",
       "super_strict_30      19\n",
       "flexible_new         14\n",
       "Name: Cancellation Policy, dtype: int64"
      ]
     },
     "execution_count": 16,
     "metadata": {},
     "output_type": "execute_result"
    }
   ],
   "source": [
    "data['Cancellation Policy'].value_counts()"
   ]
  },
  {
   "cell_type": "code",
   "execution_count": 17,
   "metadata": {},
   "outputs": [],
   "source": [
    "data['Cancellation Policy'] = data['Cancellation Policy'].replace({'strict': 0.25, 'flexible':0.9, 'moderate': 0.5,\n",
    "                                                                   'strict_new': 0.25, 'super_strict_60':0, 'super_strict_30':0,\n",
    "                                                                  'moderate_new':0.5, 'flexible_new': 0.9}).astype('float')"
   ]
  },
  {
   "cell_type": "markdown",
   "metadata": {},
   "source": [
    "Al estandarizar los datos con la división del X_train y X_test servirán para mejorar el algoritmo"
   ]
  },
  {
   "cell_type": "markdown",
   "metadata": {},
   "source": [
    "### 3.3. Host Since.\n",
    "El siguiente paso será transformar la fecha desde la que el dueño del airbnb ofrece un alojamiento en días desde esa fecha"
   ]
  },
  {
   "cell_type": "code",
   "execution_count": 18,
   "metadata": {},
   "outputs": [],
   "source": [
    "fecha = pd.to_datetime(data['Host Since'])\n",
    "#Creamos una variable que reste la maxima fecha de nuestra base de datos a la fecha del anfitrión \n",
    "tiempo_anfitrión = (max(fecha) - fecha).astype('timedelta64[D]')\n",
    "#Sustituimos por la variable fecha para que sea más sencillo utilizarla a la hora de los modelos \n",
    "data['Host Since'] = tiempo_anfitrión\n",
    "data['Host Since'] = data['Host Since'].fillna(0)"
   ]
  },
  {
   "cell_type": "markdown",
   "metadata": {},
   "source": [
    "### 3.4. Amenities, Features, Host Verifications y License."
   ]
  },
  {
   "cell_type": "markdown",
   "metadata": {},
   "source": [
    "Estas variables que vienen en formato string que sin embargo se pueden transformar a una ristra de variables binarias , las transformaremos y posteriormente haremos PCA parea reducirlas."
   ]
  },
  {
   "cell_type": "code",
   "execution_count": 19,
   "metadata": {},
   "outputs": [],
   "source": [
    "def str_to_dataframe(data,column):\n",
    "    datos=[]\n",
    "    for i in data[column]:\n",
    "        if type(i)== float:#si es np.nan creamos un diccionario vacio\n",
    "            lista={}\n",
    "        else:#en caso contrario creamos un diccionario con los datos\n",
    "            aux =i.split(',')\n",
    "            lista={}\n",
    "            for j in aux:\n",
    "                lista[j]=True\n",
    "        datos.append(lista)#añadimos el diccionario creada a la lista\n",
    "    return(pd.DataFrame(datos).fillna(False))#transformamos la list en dataframe \n",
    "    "
   ]
  },
  {
   "cell_type": "markdown",
   "metadata": {},
   "source": [
    "Dado que todas las variables que nos saldrán son dicotómicas usaremos Pca para tranformar la variables(Probamos a usar clustering gerárquico con la distancia de Manhattan pero tardaba demasiado), de tal forma que obtendremos varias variables continuas."
   ]
  },
  {
   "cell_type": "code",
   "execution_count": 20,
   "metadata": {},
   "outputs": [],
   "source": [
    "def str_to_continuous(data, columns,N_components):\n",
    "    '''\n",
    "    El siguiente código \n",
    "    data: dataframe a usar \n",
    "    columns: columnar que se quieren transformar \n",
    "    n_components:lista con numero de componentes que se quieren obtener por fila \n",
    "    \n",
    "    '''\n",
    "    from sklearn.decomposition import PCA\n",
    "    X_transK=pd.DataFrame()\n",
    "    for i,column in enumerate(columns):\n",
    "        datos=str_to_dataframe(data,column)\n",
    "        if column=='Host Verifications':#Contaremos License como parte de host verification\n",
    "            datos['License']=data['License'].isna()           \n",
    "        pca = PCA(n_components=N_components[i])\n",
    "        pca.fit(datos)\n",
    "        print(pca.explained_variance_ratio_.sum())\n",
    "        labels=[]\n",
    "        for i in range(N_components[i]):\n",
    "            labels.append(column+'_'+str(i))\n",
    "        data= data.join(pd.DataFrame(pca.transform(datos),columns=labels))\n",
    "    return data"
   ]
  },
  {
   "cell_type": "markdown",
   "metadata": {},
   "source": [
    "Tras algunas pruebas decidimos usar 12 componentes para Amenities,\n",
    "3 para  Features y 3 para Host verifications"
   ]
  },
  {
   "cell_type": "code",
   "execution_count": 21,
   "metadata": {},
   "outputs": [
    {
     "name": "stdout",
     "output_type": "stream",
     "text": [
      "0.6297513527345443\n",
      "0.7710154876416928\n",
      "0.615729112288915\n"
     ]
    }
   ],
   "source": [
    "columns=['Amenities','Features','Host Verifications']\n",
    "N_components=[12,3,3]\n",
    "data=str_to_continuous(data, columns,N_components)"
   ]
  },
  {
   "cell_type": "code",
   "execution_count": 22,
   "metadata": {},
   "outputs": [],
   "source": [
    "data=data.drop(['Amenities','Features','Host Verifications','License'],axis=1)"
   ]
  },
  {
   "cell_type": "code",
   "execution_count": 23,
   "metadata": {},
   "outputs": [
    {
     "data": {
      "text/html": [
       "<div>\n",
       "<style scoped>\n",
       "    .dataframe tbody tr th:only-of-type {\n",
       "        vertical-align: middle;\n",
       "    }\n",
       "\n",
       "    .dataframe tbody tr th {\n",
       "        vertical-align: top;\n",
       "    }\n",
       "\n",
       "    .dataframe thead th {\n",
       "        text-align: right;\n",
       "    }\n",
       "</style>\n",
       "<table border=\"1\" class=\"dataframe\">\n",
       "  <thead>\n",
       "    <tr style=\"text-align: right;\">\n",
       "      <th></th>\n",
       "      <th>Host Since</th>\n",
       "      <th>Host Response Rate</th>\n",
       "      <th>Host Acceptance Rate</th>\n",
       "      <th>Market</th>\n",
       "      <th>Property Type</th>\n",
       "      <th>Room Type</th>\n",
       "      <th>Accommodates</th>\n",
       "      <th>Bathrooms</th>\n",
       "      <th>Bedrooms</th>\n",
       "      <th>Beds</th>\n",
       "      <th>...</th>\n",
       "      <th>Amenities_8</th>\n",
       "      <th>Amenities_9</th>\n",
       "      <th>Amenities_10</th>\n",
       "      <th>Amenities_11</th>\n",
       "      <th>Features_0</th>\n",
       "      <th>Features_1</th>\n",
       "      <th>Features_2</th>\n",
       "      <th>Host Verifications_0</th>\n",
       "      <th>Host Verifications_1</th>\n",
       "      <th>Host Verifications_2</th>\n",
       "    </tr>\n",
       "  </thead>\n",
       "  <tbody>\n",
       "    <tr>\n",
       "      <th>0</th>\n",
       "      <td>421.0</td>\n",
       "      <td>100.0</td>\n",
       "      <td>NaN</td>\n",
       "      <td>Austin</td>\n",
       "      <td>Loft</td>\n",
       "      <td>Entire home/apt</td>\n",
       "      <td>2</td>\n",
       "      <td>1.0</td>\n",
       "      <td>1.0</td>\n",
       "      <td>1.0</td>\n",
       "      <td>...</td>\n",
       "      <td>-0.497726</td>\n",
       "      <td>0.257800</td>\n",
       "      <td>0.659523</td>\n",
       "      <td>0.118278</td>\n",
       "      <td>-0.441616</td>\n",
       "      <td>-0.630208</td>\n",
       "      <td>-0.066578</td>\n",
       "      <td>-0.619940</td>\n",
       "      <td>-0.101797</td>\n",
       "      <td>0.106469</td>\n",
       "    </tr>\n",
       "    <tr>\n",
       "      <th>1</th>\n",
       "      <td>150.0</td>\n",
       "      <td>100.0</td>\n",
       "      <td>NaN</td>\n",
       "      <td>Barcelona</td>\n",
       "      <td>Apartment</td>\n",
       "      <td>Entire home/apt</td>\n",
       "      <td>4</td>\n",
       "      <td>1.0</td>\n",
       "      <td>1.0</td>\n",
       "      <td>1.0</td>\n",
       "      <td>...</td>\n",
       "      <td>0.335664</td>\n",
       "      <td>0.002440</td>\n",
       "      <td>0.850754</td>\n",
       "      <td>0.616344</td>\n",
       "      <td>0.531915</td>\n",
       "      <td>0.912232</td>\n",
       "      <td>0.267454</td>\n",
       "      <td>-0.541394</td>\n",
       "      <td>-0.128328</td>\n",
       "      <td>-0.093625</td>\n",
       "    </tr>\n",
       "    <tr>\n",
       "      <th>2</th>\n",
       "      <td>150.0</td>\n",
       "      <td>100.0</td>\n",
       "      <td>NaN</td>\n",
       "      <td>Barcelona</td>\n",
       "      <td>Apartment</td>\n",
       "      <td>Entire home/apt</td>\n",
       "      <td>4</td>\n",
       "      <td>1.0</td>\n",
       "      <td>1.0</td>\n",
       "      <td>1.0</td>\n",
       "      <td>...</td>\n",
       "      <td>0.335664</td>\n",
       "      <td>0.002440</td>\n",
       "      <td>0.850754</td>\n",
       "      <td>0.616344</td>\n",
       "      <td>0.531915</td>\n",
       "      <td>0.912232</td>\n",
       "      <td>0.267454</td>\n",
       "      <td>-0.541394</td>\n",
       "      <td>-0.128328</td>\n",
       "      <td>-0.093625</td>\n",
       "    </tr>\n",
       "    <tr>\n",
       "      <th>3</th>\n",
       "      <td>2509.0</td>\n",
       "      <td>100.0</td>\n",
       "      <td>NaN</td>\n",
       "      <td>Barcelona</td>\n",
       "      <td>Apartment</td>\n",
       "      <td>Entire home/apt</td>\n",
       "      <td>8</td>\n",
       "      <td>2.0</td>\n",
       "      <td>3.0</td>\n",
       "      <td>4.0</td>\n",
       "      <td>...</td>\n",
       "      <td>-0.722108</td>\n",
       "      <td>0.521539</td>\n",
       "      <td>0.095054</td>\n",
       "      <td>0.032532</td>\n",
       "      <td>-0.258650</td>\n",
       "      <td>0.582044</td>\n",
       "      <td>0.767222</td>\n",
       "      <td>0.408022</td>\n",
       "      <td>0.634086</td>\n",
       "      <td>-0.754867</td>\n",
       "    </tr>\n",
       "    <tr>\n",
       "      <th>4</th>\n",
       "      <td>451.0</td>\n",
       "      <td>99.0</td>\n",
       "      <td>NaN</td>\n",
       "      <td>Barcelona</td>\n",
       "      <td>Apartment</td>\n",
       "      <td>Entire home/apt</td>\n",
       "      <td>5</td>\n",
       "      <td>1.0</td>\n",
       "      <td>2.0</td>\n",
       "      <td>2.0</td>\n",
       "      <td>...</td>\n",
       "      <td>0.018904</td>\n",
       "      <td>0.224963</td>\n",
       "      <td>-0.046520</td>\n",
       "      <td>-0.049168</td>\n",
       "      <td>-0.717360</td>\n",
       "      <td>0.388629</td>\n",
       "      <td>-0.098217</td>\n",
       "      <td>0.218679</td>\n",
       "      <td>-0.313825</td>\n",
       "      <td>-0.301971</td>\n",
       "    </tr>\n",
       "    <tr>\n",
       "      <th>...</th>\n",
       "      <td>...</td>\n",
       "      <td>...</td>\n",
       "      <td>...</td>\n",
       "      <td>...</td>\n",
       "      <td>...</td>\n",
       "      <td>...</td>\n",
       "      <td>...</td>\n",
       "      <td>...</td>\n",
       "      <td>...</td>\n",
       "      <td>...</td>\n",
       "      <td>...</td>\n",
       "      <td>...</td>\n",
       "      <td>...</td>\n",
       "      <td>...</td>\n",
       "      <td>...</td>\n",
       "      <td>...</td>\n",
       "      <td>...</td>\n",
       "      <td>...</td>\n",
       "      <td>...</td>\n",
       "      <td>...</td>\n",
       "      <td>...</td>\n",
       "    </tr>\n",
       "    <tr>\n",
       "      <th>14775</th>\n",
       "      <td>1206.0</td>\n",
       "      <td>100.0</td>\n",
       "      <td>NaN</td>\n",
       "      <td>New York</td>\n",
       "      <td>Apartment</td>\n",
       "      <td>Entire home/apt</td>\n",
       "      <td>2</td>\n",
       "      <td>1.0</td>\n",
       "      <td>1.0</td>\n",
       "      <td>2.0</td>\n",
       "      <td>...</td>\n",
       "      <td>0.316215</td>\n",
       "      <td>0.129272</td>\n",
       "      <td>0.452813</td>\n",
       "      <td>0.124082</td>\n",
       "      <td>-0.441616</td>\n",
       "      <td>-0.630208</td>\n",
       "      <td>-0.066578</td>\n",
       "      <td>0.218679</td>\n",
       "      <td>-0.313825</td>\n",
       "      <td>-0.301971</td>\n",
       "    </tr>\n",
       "    <tr>\n",
       "      <th>14776</th>\n",
       "      <td>14.0</td>\n",
       "      <td>NaN</td>\n",
       "      <td>NaN</td>\n",
       "      <td>Paris</td>\n",
       "      <td>Bed &amp; Breakfast</td>\n",
       "      <td>Private room</td>\n",
       "      <td>1</td>\n",
       "      <td>1.0</td>\n",
       "      <td>1.0</td>\n",
       "      <td>2.0</td>\n",
       "      <td>...</td>\n",
       "      <td>-0.014605</td>\n",
       "      <td>-0.405426</td>\n",
       "      <td>0.292940</td>\n",
       "      <td>-0.257161</td>\n",
       "      <td>0.053822</td>\n",
       "      <td>0.666518</td>\n",
       "      <td>-0.601453</td>\n",
       "      <td>-0.711725</td>\n",
       "      <td>0.004053</td>\n",
       "      <td>0.461924</td>\n",
       "    </tr>\n",
       "    <tr>\n",
       "      <th>14777</th>\n",
       "      <td>641.0</td>\n",
       "      <td>100.0</td>\n",
       "      <td>NaN</td>\n",
       "      <td>Paris</td>\n",
       "      <td>Apartment</td>\n",
       "      <td>Entire home/apt</td>\n",
       "      <td>5</td>\n",
       "      <td>1.0</td>\n",
       "      <td>2.0</td>\n",
       "      <td>3.0</td>\n",
       "      <td>...</td>\n",
       "      <td>-0.142094</td>\n",
       "      <td>-0.522476</td>\n",
       "      <td>-0.222932</td>\n",
       "      <td>0.775855</td>\n",
       "      <td>0.017094</td>\n",
       "      <td>-0.436794</td>\n",
       "      <td>0.798862</td>\n",
       "      <td>0.218679</td>\n",
       "      <td>-0.313825</td>\n",
       "      <td>-0.301971</td>\n",
       "    </tr>\n",
       "    <tr>\n",
       "      <th>14778</th>\n",
       "      <td>1479.0</td>\n",
       "      <td>100.0</td>\n",
       "      <td>80%</td>\n",
       "      <td>Denver</td>\n",
       "      <td>Apartment</td>\n",
       "      <td>Entire home/apt</td>\n",
       "      <td>4</td>\n",
       "      <td>1.0</td>\n",
       "      <td>1.0</td>\n",
       "      <td>2.0</td>\n",
       "      <td>...</td>\n",
       "      <td>-0.387215</td>\n",
       "      <td>-0.570507</td>\n",
       "      <td>-0.307764</td>\n",
       "      <td>0.841734</td>\n",
       "      <td>-0.347748</td>\n",
       "      <td>-0.583844</td>\n",
       "      <td>-0.100140</td>\n",
       "      <td>0.386172</td>\n",
       "      <td>0.660100</td>\n",
       "      <td>-0.476575</td>\n",
       "    </tr>\n",
       "    <tr>\n",
       "      <th>14779</th>\n",
       "      <td>1082.0</td>\n",
       "      <td>100.0</td>\n",
       "      <td>100%</td>\n",
       "      <td>Seattle</td>\n",
       "      <td>House</td>\n",
       "      <td>Private room</td>\n",
       "      <td>2</td>\n",
       "      <td>1.0</td>\n",
       "      <td>1.0</td>\n",
       "      <td>1.0</td>\n",
       "      <td>...</td>\n",
       "      <td>-0.461305</td>\n",
       "      <td>-0.778716</td>\n",
       "      <td>-0.605995</td>\n",
       "      <td>0.708395</td>\n",
       "      <td>-0.736743</td>\n",
       "      <td>0.336329</td>\n",
       "      <td>-0.101685</td>\n",
       "      <td>-0.332534</td>\n",
       "      <td>0.881767</td>\n",
       "      <td>0.143480</td>\n",
       "    </tr>\n",
       "  </tbody>\n",
       "</table>\n",
       "<p>14780 rows × 44 columns</p>\n",
       "</div>"
      ],
      "text/plain": [
       "       Host Since  Host Response Rate Host Acceptance Rate     Market  \\\n",
       "0           421.0               100.0                  NaN     Austin   \n",
       "1           150.0               100.0                  NaN  Barcelona   \n",
       "2           150.0               100.0                  NaN  Barcelona   \n",
       "3          2509.0               100.0                  NaN  Barcelona   \n",
       "4           451.0                99.0                  NaN  Barcelona   \n",
       "...           ...                 ...                  ...        ...   \n",
       "14775      1206.0               100.0                  NaN   New York   \n",
       "14776        14.0                 NaN                  NaN      Paris   \n",
       "14777       641.0               100.0                  NaN      Paris   \n",
       "14778      1479.0               100.0                  80%     Denver   \n",
       "14779      1082.0               100.0                 100%    Seattle   \n",
       "\n",
       "         Property Type        Room Type  Accommodates  Bathrooms  Bedrooms  \\\n",
       "0                 Loft  Entire home/apt             2        1.0       1.0   \n",
       "1            Apartment  Entire home/apt             4        1.0       1.0   \n",
       "2            Apartment  Entire home/apt             4        1.0       1.0   \n",
       "3            Apartment  Entire home/apt             8        2.0       3.0   \n",
       "4            Apartment  Entire home/apt             5        1.0       2.0   \n",
       "...                ...              ...           ...        ...       ...   \n",
       "14775        Apartment  Entire home/apt             2        1.0       1.0   \n",
       "14776  Bed & Breakfast     Private room             1        1.0       1.0   \n",
       "14777        Apartment  Entire home/apt             5        1.0       2.0   \n",
       "14778        Apartment  Entire home/apt             4        1.0       1.0   \n",
       "14779            House     Private room             2        1.0       1.0   \n",
       "\n",
       "       Beds  ... Amenities_8  Amenities_9  Amenities_10  Amenities_11  \\\n",
       "0       1.0  ...   -0.497726     0.257800      0.659523      0.118278   \n",
       "1       1.0  ...    0.335664     0.002440      0.850754      0.616344   \n",
       "2       1.0  ...    0.335664     0.002440      0.850754      0.616344   \n",
       "3       4.0  ...   -0.722108     0.521539      0.095054      0.032532   \n",
       "4       2.0  ...    0.018904     0.224963     -0.046520     -0.049168   \n",
       "...     ...  ...         ...          ...           ...           ...   \n",
       "14775   2.0  ...    0.316215     0.129272      0.452813      0.124082   \n",
       "14776   2.0  ...   -0.014605    -0.405426      0.292940     -0.257161   \n",
       "14777   3.0  ...   -0.142094    -0.522476     -0.222932      0.775855   \n",
       "14778   2.0  ...   -0.387215    -0.570507     -0.307764      0.841734   \n",
       "14779   1.0  ...   -0.461305    -0.778716     -0.605995      0.708395   \n",
       "\n",
       "       Features_0  Features_1  Features_2  Host Verifications_0  \\\n",
       "0       -0.441616   -0.630208   -0.066578             -0.619940   \n",
       "1        0.531915    0.912232    0.267454             -0.541394   \n",
       "2        0.531915    0.912232    0.267454             -0.541394   \n",
       "3       -0.258650    0.582044    0.767222              0.408022   \n",
       "4       -0.717360    0.388629   -0.098217              0.218679   \n",
       "...           ...         ...         ...                   ...   \n",
       "14775   -0.441616   -0.630208   -0.066578              0.218679   \n",
       "14776    0.053822    0.666518   -0.601453             -0.711725   \n",
       "14777    0.017094   -0.436794    0.798862              0.218679   \n",
       "14778   -0.347748   -0.583844   -0.100140              0.386172   \n",
       "14779   -0.736743    0.336329   -0.101685             -0.332534   \n",
       "\n",
       "       Host Verifications_1  Host Verifications_2  \n",
       "0                 -0.101797              0.106469  \n",
       "1                 -0.128328             -0.093625  \n",
       "2                 -0.128328             -0.093625  \n",
       "3                  0.634086             -0.754867  \n",
       "4                 -0.313825             -0.301971  \n",
       "...                     ...                   ...  \n",
       "14775             -0.313825             -0.301971  \n",
       "14776              0.004053              0.461924  \n",
       "14777             -0.313825             -0.301971  \n",
       "14778              0.660100             -0.476575  \n",
       "14779              0.881767              0.143480  \n",
       "\n",
       "[14780 rows x 44 columns]"
      ]
     },
     "execution_count": 23,
     "metadata": {},
     "output_type": "execute_result"
    }
   ],
   "source": [
    "data"
   ]
  },
  {
   "cell_type": "markdown",
   "metadata": {},
   "source": [
    "### 3.5. Property Type"
   ]
  },
  {
   "cell_type": "code",
   "execution_count": 24,
   "metadata": {},
   "outputs": [
    {
     "data": {
      "text/plain": [
       "Apartment             11962\n",
       "House                  1368\n",
       "Condominium             363\n",
       "Bed & Breakfast         353\n",
       "Loft                    305\n",
       "Other                   225\n",
       "Dorm                     44\n",
       "Guesthouse               42\n",
       "Chalet                   26\n",
       "Villa                    19\n",
       "Townhouse                17\n",
       "Hostel                   16\n",
       "Serviced apartment       13\n",
       "Boutique hotel            6\n",
       "Boat                      4\n",
       "Camper/RV                 4\n",
       "Earth House               3\n",
       "Casa particular           3\n",
       "Guest suite               3\n",
       "Bungalow                  2\n",
       "Timeshare                 1\n",
       "Tent                      1\n",
       "Name: Property Type, dtype: int64"
      ]
     },
     "execution_count": 24,
     "metadata": {},
     "output_type": "execute_result"
    }
   ],
   "source": [
    "data['Property Type'].value_counts()"
   ]
  },
  {
   "cell_type": "code",
   "execution_count": 25,
   "metadata": {},
   "outputs": [],
   "source": [
    "data['Property Type'].replace({\n",
    "    'Townhouse': 'House',\n",
    "    'Serviced apartment': 'Apartment',\n",
    "    'Loft': 'Apartment',\n",
    "    'Bungalow': 'House',\n",
    "    'Guesthouse': 'House',\n",
    "    'Casa particular': 'House',\n",
    "    'Cottage': 'House',\n",
    "    'Villa': 'House',\n",
    "    'Tiny house': 'House',\n",
    "    'Earth House': 'House',\n",
    "    'Chalet': 'House',\n",
    "    'Boutique hotel': 'Other',\n",
    "    'Condominium': 'Other',\n",
    "    'Bed & Breakfast': 'Other',\n",
    "    'Dorm': 'Other',\n",
    "    'Hostel': 'Other',\n",
    "    'Guest suite': 'Other',\n",
    "    'Tent': 'Other',\n",
    "    'Timeshare': 'Other',\n",
    "    'Boat': 'Other',\n",
    "    'Camper/RV': 'Other'\n",
    "    }, inplace=True)\n"
   ]
  },
  {
   "cell_type": "code",
   "execution_count": 26,
   "metadata": {},
   "outputs": [
    {
     "data": {
      "text/plain": [
       "Apartment    12280\n",
       "House         1480\n",
       "Other         1020\n",
       "Name: Property Type, dtype: int64"
      ]
     },
     "execution_count": 26,
     "metadata": {},
     "output_type": "execute_result"
    }
   ],
   "source": [
    "data['Property Type'].value_counts()"
   ]
  },
  {
   "cell_type": "markdown",
   "metadata": {},
   "source": [
    "### 3.6. Geolocalización."
   ]
  },
  {
   "cell_type": "markdown",
   "metadata": {},
   "source": [
    "Dado que Geolocalitation tiene latitud y logitud crearemos una nueva variable en la que será la multiplicacion entre latitud y longitud , de tal forma reducimos las variables y las casas que esten cerca tendrán valores similares"
   ]
  },
  {
   "cell_type": "code",
   "execution_count": 27,
   "metadata": {},
   "outputs": [],
   "source": [
    "data['Geolocation']=data['Latitude']*data['Longitude']"
   ]
  },
  {
   "cell_type": "code",
   "execution_count": 28,
   "metadata": {
    "scrolled": true
   },
   "outputs": [],
   "source": [
    "data=data.drop(['Longitude','Latitude'],1)"
   ]
  },
  {
   "cell_type": "markdown",
   "metadata": {},
   "source": [
    "### 3.7 Host acceptance rate."
   ]
  },
  {
   "cell_type": "markdown",
   "metadata": {},
   "source": [
    "A pesar de ser un porcentaje Host acceptance rate esta en un formato nada agradable, lo arreglaremos "
   ]
  },
  {
   "cell_type": "code",
   "execution_count": 29,
   "metadata": {},
   "outputs": [],
   "source": [
    "lista=[]\n",
    "for i in data['Host Acceptance Rate']:\n",
    "    lista.append(float(str(i).replace('%','')))\n",
    "data['Host Acceptance Rate']=lista"
   ]
  },
  {
   "cell_type": "markdown",
   "metadata": {},
   "source": [
    "# 4. Valores missing e imputación"
   ]
  },
  {
   "cell_type": "markdown",
   "metadata": {},
   "source": [
    "### 4.1. Variables Continuas."
   ]
  },
  {
   "cell_type": "code",
   "execution_count": 30,
   "metadata": {},
   "outputs": [],
   "source": [
    "list_var_continuous = list(data.select_dtypes('float').columns)+list(data.select_dtypes('int').columns)\n",
    "list_var_discrets = list(data.select_dtypes('object').columns)\n"
   ]
  },
  {
   "cell_type": "code",
   "execution_count": 31,
   "metadata": {
    "scrolled": true
   },
   "outputs": [
    {
     "data": {
      "text/html": [
       "<div>\n",
       "<style scoped>\n",
       "    .dataframe tbody tr th:only-of-type {\n",
       "        vertical-align: middle;\n",
       "    }\n",
       "\n",
       "    .dataframe tbody tr th {\n",
       "        vertical-align: top;\n",
       "    }\n",
       "\n",
       "    .dataframe thead th {\n",
       "        text-align: right;\n",
       "    }\n",
       "</style>\n",
       "<table border=\"1\" class=\"dataframe\">\n",
       "  <thead>\n",
       "    <tr style=\"text-align: right;\">\n",
       "      <th></th>\n",
       "      <th>Host Since</th>\n",
       "      <th>Host Response Rate</th>\n",
       "      <th>Host Acceptance Rate</th>\n",
       "      <th>Bathrooms</th>\n",
       "      <th>Bedrooms</th>\n",
       "      <th>Beds</th>\n",
       "      <th>Square Feet</th>\n",
       "      <th>Cleaning Fee</th>\n",
       "      <th>Review Scores Rating</th>\n",
       "      <th>Cancellation Policy</th>\n",
       "      <th>...</th>\n",
       "      <th>Host Verifications_0</th>\n",
       "      <th>Host Verifications_1</th>\n",
       "      <th>Host Verifications_2</th>\n",
       "      <th>Accommodates</th>\n",
       "      <th>Guests Included</th>\n",
       "      <th>Extra People</th>\n",
       "      <th>Minimum Nights</th>\n",
       "      <th>Maximum Nights</th>\n",
       "      <th>Availability 365</th>\n",
       "      <th>Number of Reviews</th>\n",
       "    </tr>\n",
       "  </thead>\n",
       "  <tbody>\n",
       "    <tr>\n",
       "      <th>0</th>\n",
       "      <td>421.0</td>\n",
       "      <td>100.0</td>\n",
       "      <td>NaN</td>\n",
       "      <td>1.0</td>\n",
       "      <td>1.0</td>\n",
       "      <td>1.0</td>\n",
       "      <td>NaN</td>\n",
       "      <td>NaN</td>\n",
       "      <td>98.0</td>\n",
       "      <td>0.50</td>\n",
       "      <td>...</td>\n",
       "      <td>-0.619940</td>\n",
       "      <td>-0.101797</td>\n",
       "      <td>0.106469</td>\n",
       "      <td>2</td>\n",
       "      <td>1</td>\n",
       "      <td>0</td>\n",
       "      <td>2</td>\n",
       "      <td>1125</td>\n",
       "      <td>281</td>\n",
       "      <td>42</td>\n",
       "    </tr>\n",
       "    <tr>\n",
       "      <th>1</th>\n",
       "      <td>150.0</td>\n",
       "      <td>100.0</td>\n",
       "      <td>NaN</td>\n",
       "      <td>1.0</td>\n",
       "      <td>1.0</td>\n",
       "      <td>1.0</td>\n",
       "      <td>NaN</td>\n",
       "      <td>40.0</td>\n",
       "      <td>80.0</td>\n",
       "      <td>0.00</td>\n",
       "      <td>...</td>\n",
       "      <td>-0.541394</td>\n",
       "      <td>-0.128328</td>\n",
       "      <td>-0.093625</td>\n",
       "      <td>4</td>\n",
       "      <td>2</td>\n",
       "      <td>44</td>\n",
       "      <td>1</td>\n",
       "      <td>1125</td>\n",
       "      <td>309</td>\n",
       "      <td>1</td>\n",
       "    </tr>\n",
       "    <tr>\n",
       "      <th>2</th>\n",
       "      <td>150.0</td>\n",
       "      <td>100.0</td>\n",
       "      <td>NaN</td>\n",
       "      <td>1.0</td>\n",
       "      <td>1.0</td>\n",
       "      <td>1.0</td>\n",
       "      <td>NaN</td>\n",
       "      <td>60.0</td>\n",
       "      <td>NaN</td>\n",
       "      <td>0.00</td>\n",
       "      <td>...</td>\n",
       "      <td>-0.541394</td>\n",
       "      <td>-0.128328</td>\n",
       "      <td>-0.093625</td>\n",
       "      <td>4</td>\n",
       "      <td>2</td>\n",
       "      <td>42</td>\n",
       "      <td>1</td>\n",
       "      <td>1125</td>\n",
       "      <td>291</td>\n",
       "      <td>0</td>\n",
       "    </tr>\n",
       "    <tr>\n",
       "      <th>3</th>\n",
       "      <td>2509.0</td>\n",
       "      <td>100.0</td>\n",
       "      <td>NaN</td>\n",
       "      <td>2.0</td>\n",
       "      <td>3.0</td>\n",
       "      <td>4.0</td>\n",
       "      <td>NaN</td>\n",
       "      <td>79.0</td>\n",
       "      <td>92.0</td>\n",
       "      <td>0.25</td>\n",
       "      <td>...</td>\n",
       "      <td>0.408022</td>\n",
       "      <td>0.634086</td>\n",
       "      <td>-0.754867</td>\n",
       "      <td>8</td>\n",
       "      <td>2</td>\n",
       "      <td>39</td>\n",
       "      <td>2</td>\n",
       "      <td>1125</td>\n",
       "      <td>316</td>\n",
       "      <td>13</td>\n",
       "    </tr>\n",
       "    <tr>\n",
       "      <th>4</th>\n",
       "      <td>451.0</td>\n",
       "      <td>99.0</td>\n",
       "      <td>NaN</td>\n",
       "      <td>1.0</td>\n",
       "      <td>2.0</td>\n",
       "      <td>2.0</td>\n",
       "      <td>NaN</td>\n",
       "      <td>55.0</td>\n",
       "      <td>NaN</td>\n",
       "      <td>0.90</td>\n",
       "      <td>...</td>\n",
       "      <td>0.218679</td>\n",
       "      <td>-0.313825</td>\n",
       "      <td>-0.301971</td>\n",
       "      <td>5</td>\n",
       "      <td>1</td>\n",
       "      <td>0</td>\n",
       "      <td>2</td>\n",
       "      <td>1125</td>\n",
       "      <td>7</td>\n",
       "      <td>0</td>\n",
       "    </tr>\n",
       "    <tr>\n",
       "      <th>...</th>\n",
       "      <td>...</td>\n",
       "      <td>...</td>\n",
       "      <td>...</td>\n",
       "      <td>...</td>\n",
       "      <td>...</td>\n",
       "      <td>...</td>\n",
       "      <td>...</td>\n",
       "      <td>...</td>\n",
       "      <td>...</td>\n",
       "      <td>...</td>\n",
       "      <td>...</td>\n",
       "      <td>...</td>\n",
       "      <td>...</td>\n",
       "      <td>...</td>\n",
       "      <td>...</td>\n",
       "      <td>...</td>\n",
       "      <td>...</td>\n",
       "      <td>...</td>\n",
       "      <td>...</td>\n",
       "      <td>...</td>\n",
       "      <td>...</td>\n",
       "    </tr>\n",
       "    <tr>\n",
       "      <th>14775</th>\n",
       "      <td>1206.0</td>\n",
       "      <td>100.0</td>\n",
       "      <td>NaN</td>\n",
       "      <td>1.0</td>\n",
       "      <td>1.0</td>\n",
       "      <td>2.0</td>\n",
       "      <td>NaN</td>\n",
       "      <td>60.0</td>\n",
       "      <td>95.0</td>\n",
       "      <td>0.25</td>\n",
       "      <td>...</td>\n",
       "      <td>0.218679</td>\n",
       "      <td>-0.313825</td>\n",
       "      <td>-0.301971</td>\n",
       "      <td>2</td>\n",
       "      <td>1</td>\n",
       "      <td>0</td>\n",
       "      <td>1</td>\n",
       "      <td>1125</td>\n",
       "      <td>339</td>\n",
       "      <td>30</td>\n",
       "    </tr>\n",
       "    <tr>\n",
       "      <th>14776</th>\n",
       "      <td>14.0</td>\n",
       "      <td>NaN</td>\n",
       "      <td>NaN</td>\n",
       "      <td>1.0</td>\n",
       "      <td>1.0</td>\n",
       "      <td>2.0</td>\n",
       "      <td>NaN</td>\n",
       "      <td>NaN</td>\n",
       "      <td>NaN</td>\n",
       "      <td>0.90</td>\n",
       "      <td>...</td>\n",
       "      <td>-0.711725</td>\n",
       "      <td>0.004053</td>\n",
       "      <td>0.461924</td>\n",
       "      <td>1</td>\n",
       "      <td>1</td>\n",
       "      <td>0</td>\n",
       "      <td>3</td>\n",
       "      <td>7</td>\n",
       "      <td>78</td>\n",
       "      <td>0</td>\n",
       "    </tr>\n",
       "    <tr>\n",
       "      <th>14777</th>\n",
       "      <td>641.0</td>\n",
       "      <td>100.0</td>\n",
       "      <td>NaN</td>\n",
       "      <td>1.0</td>\n",
       "      <td>2.0</td>\n",
       "      <td>3.0</td>\n",
       "      <td>NaN</td>\n",
       "      <td>40.0</td>\n",
       "      <td>94.0</td>\n",
       "      <td>0.25</td>\n",
       "      <td>...</td>\n",
       "      <td>0.218679</td>\n",
       "      <td>-0.313825</td>\n",
       "      <td>-0.301971</td>\n",
       "      <td>5</td>\n",
       "      <td>3</td>\n",
       "      <td>10</td>\n",
       "      <td>3</td>\n",
       "      <td>1125</td>\n",
       "      <td>97</td>\n",
       "      <td>17</td>\n",
       "    </tr>\n",
       "    <tr>\n",
       "      <th>14778</th>\n",
       "      <td>1479.0</td>\n",
       "      <td>100.0</td>\n",
       "      <td>80.0</td>\n",
       "      <td>1.0</td>\n",
       "      <td>1.0</td>\n",
       "      <td>2.0</td>\n",
       "      <td>NaN</td>\n",
       "      <td>10.0</td>\n",
       "      <td>100.0</td>\n",
       "      <td>0.50</td>\n",
       "      <td>...</td>\n",
       "      <td>0.386172</td>\n",
       "      <td>0.660100</td>\n",
       "      <td>-0.476575</td>\n",
       "      <td>4</td>\n",
       "      <td>2</td>\n",
       "      <td>10</td>\n",
       "      <td>2</td>\n",
       "      <td>7</td>\n",
       "      <td>14</td>\n",
       "      <td>1</td>\n",
       "    </tr>\n",
       "    <tr>\n",
       "      <th>14779</th>\n",
       "      <td>1082.0</td>\n",
       "      <td>100.0</td>\n",
       "      <td>100.0</td>\n",
       "      <td>1.0</td>\n",
       "      <td>1.0</td>\n",
       "      <td>1.0</td>\n",
       "      <td>NaN</td>\n",
       "      <td>NaN</td>\n",
       "      <td>98.0</td>\n",
       "      <td>0.90</td>\n",
       "      <td>...</td>\n",
       "      <td>-0.332534</td>\n",
       "      <td>0.881767</td>\n",
       "      <td>0.143480</td>\n",
       "      <td>2</td>\n",
       "      <td>2</td>\n",
       "      <td>0</td>\n",
       "      <td>2</td>\n",
       "      <td>1125</td>\n",
       "      <td>365</td>\n",
       "      <td>8</td>\n",
       "    </tr>\n",
       "  </tbody>\n",
       "</table>\n",
       "<p>14780 rows × 38 columns</p>\n",
       "</div>"
      ],
      "text/plain": [
       "       Host Since  Host Response Rate  Host Acceptance Rate  Bathrooms  \\\n",
       "0           421.0               100.0                   NaN        1.0   \n",
       "1           150.0               100.0                   NaN        1.0   \n",
       "2           150.0               100.0                   NaN        1.0   \n",
       "3          2509.0               100.0                   NaN        2.0   \n",
       "4           451.0                99.0                   NaN        1.0   \n",
       "...           ...                 ...                   ...        ...   \n",
       "14775      1206.0               100.0                   NaN        1.0   \n",
       "14776        14.0                 NaN                   NaN        1.0   \n",
       "14777       641.0               100.0                   NaN        1.0   \n",
       "14778      1479.0               100.0                  80.0        1.0   \n",
       "14779      1082.0               100.0                 100.0        1.0   \n",
       "\n",
       "       Bedrooms  Beds  Square Feet  Cleaning Fee  Review Scores Rating  \\\n",
       "0           1.0   1.0          NaN           NaN                  98.0   \n",
       "1           1.0   1.0          NaN          40.0                  80.0   \n",
       "2           1.0   1.0          NaN          60.0                   NaN   \n",
       "3           3.0   4.0          NaN          79.0                  92.0   \n",
       "4           2.0   2.0          NaN          55.0                   NaN   \n",
       "...         ...   ...          ...           ...                   ...   \n",
       "14775       1.0   2.0          NaN          60.0                  95.0   \n",
       "14776       1.0   2.0          NaN           NaN                   NaN   \n",
       "14777       2.0   3.0          NaN          40.0                  94.0   \n",
       "14778       1.0   2.0          NaN          10.0                 100.0   \n",
       "14779       1.0   1.0          NaN           NaN                  98.0   \n",
       "\n",
       "       Cancellation Policy  ...  Host Verifications_0  Host Verifications_1  \\\n",
       "0                     0.50  ...             -0.619940             -0.101797   \n",
       "1                     0.00  ...             -0.541394             -0.128328   \n",
       "2                     0.00  ...             -0.541394             -0.128328   \n",
       "3                     0.25  ...              0.408022              0.634086   \n",
       "4                     0.90  ...              0.218679             -0.313825   \n",
       "...                    ...  ...                   ...                   ...   \n",
       "14775                 0.25  ...              0.218679             -0.313825   \n",
       "14776                 0.90  ...             -0.711725              0.004053   \n",
       "14777                 0.25  ...              0.218679             -0.313825   \n",
       "14778                 0.50  ...              0.386172              0.660100   \n",
       "14779                 0.90  ...             -0.332534              0.881767   \n",
       "\n",
       "       Host Verifications_2  Accommodates  Guests Included  Extra People  \\\n",
       "0                  0.106469             2                1             0   \n",
       "1                 -0.093625             4                2            44   \n",
       "2                 -0.093625             4                2            42   \n",
       "3                 -0.754867             8                2            39   \n",
       "4                 -0.301971             5                1             0   \n",
       "...                     ...           ...              ...           ...   \n",
       "14775             -0.301971             2                1             0   \n",
       "14776              0.461924             1                1             0   \n",
       "14777             -0.301971             5                3            10   \n",
       "14778             -0.476575             4                2            10   \n",
       "14779              0.143480             2                2             0   \n",
       "\n",
       "       Minimum Nights  Maximum Nights  Availability 365  Number of Reviews  \n",
       "0                   2            1125               281                 42  \n",
       "1                   1            1125               309                  1  \n",
       "2                   1            1125               291                  0  \n",
       "3                   2            1125               316                 13  \n",
       "4                   2            1125                 7                  0  \n",
       "...               ...             ...               ...                ...  \n",
       "14775               1            1125               339                 30  \n",
       "14776               3               7                78                  0  \n",
       "14777               3            1125                97                 17  \n",
       "14778               2               7                14                  1  \n",
       "14779               2            1125               365                  8  \n",
       "\n",
       "[14780 rows x 38 columns]"
      ]
     },
     "execution_count": 31,
     "metadata": {},
     "output_type": "execute_result"
    }
   ],
   "source": [
    "data[list_var_continuous]"
   ]
  },
  {
   "cell_type": "code",
   "execution_count": 32,
   "metadata": {},
   "outputs": [],
   "source": [
    "lista=data[list_var_continuous].isna().sum()\n",
    "var_na=[]\n",
    "for i,j in enumerate(lista):\n",
    "    if lista[list_var_continuous[i]]>0:\n",
    "        var_na.append(list_var_continuous[i])"
   ]
  },
  {
   "cell_type": "code",
   "execution_count": 33,
   "metadata": {},
   "outputs": [
    {
     "data": {
      "text/plain": [
       "Host Response Rate                0.128484\n",
       "Host Acceptance Rate              0.997361\n",
       "Bathrooms                         0.003721\n",
       "Bedrooms                          0.001691\n",
       "Beds                              0.003315\n",
       "Square Feet                       0.959540\n",
       "Cleaning Fee                      0.412246\n",
       "Review Scores Rating              0.223545\n",
       "Calculated host listings count    0.000271\n",
       "Reviews per Month                 0.213938\n",
       "dtype: float64"
      ]
     },
     "execution_count": 33,
     "metadata": {},
     "output_type": "execute_result"
    }
   ],
   "source": [
    "data[var_na].isna().mean()"
   ]
  },
  {
   "cell_type": "markdown",
   "metadata": {},
   "source": [
    "Primero pondremos que en Cleaning fee si es na , significa que no hay que pagar por el servicio de limpieza"
   ]
  },
  {
   "cell_type": "code",
   "execution_count": 34,
   "metadata": {},
   "outputs": [],
   "source": [
    "data['Cleaning Fee']=data['Cleaning Fee'].fillna(0)"
   ]
  },
  {
   "cell_type": "markdown",
   "metadata": {},
   "source": [
    "Para los bathrooms,  bedrooms, beds suponemos que si no lo pone es porque no lo tiene "
   ]
  },
  {
   "cell_type": "code",
   "execution_count": 35,
   "metadata": {},
   "outputs": [],
   "source": [
    "data['Bathrooms']=data['Bathrooms'].fillna(0)\n",
    "data['Bedrooms']=data['Bedrooms'].fillna(0)\n",
    "data['Beds']=data['Beds'].fillna(0)"
   ]
  },
  {
   "cell_type": "markdown",
   "metadata": {},
   "source": [
    "Host Acceptance Rate es una variable  que podría ser importante pero como tiene tantos missing (99.7%) no nos servirá de mucho , lo mismo para Square Feet (96%)"
   ]
  },
  {
   "cell_type": "code",
   "execution_count": 36,
   "metadata": {},
   "outputs": [],
   "source": [
    "data=data.drop(['Host Acceptance Rate','Square Feet'],1)"
   ]
  },
  {
   "cell_type": "markdown",
   "metadata": {},
   "source": [
    "Para Host Response Rate los na son personas que no han respondido nunca por ser muy nuevos, por tanto, pondremos que los np.na sean 0, lo mismo para,Review Scores Rating,Calculated host listings count,Reviews per Month "
   ]
  },
  {
   "cell_type": "code",
   "execution_count": 37,
   "metadata": {},
   "outputs": [],
   "source": [
    "list_var_continuous = list(data.select_dtypes('float').columns)\n",
    "\n",
    "imputer = SimpleImputer(missing_values=np.nan, strategy='mean')\n",
    "imputer.fit(data[list_var_continuous])\n",
    "data[list_var_continuous]=imputer.transform(data[list_var_continuous])"
   ]
  },
  {
   "cell_type": "markdown",
   "metadata": {},
   "source": [
    "### 4.2. Variables Categóricas."
   ]
  },
  {
   "cell_type": "code",
   "execution_count": 38,
   "metadata": {},
   "outputs": [
    {
     "data": {
      "text/plain": [
       "['Market', 'Property Type', 'Room Type', 'Bed Type']"
      ]
     },
     "execution_count": 38,
     "metadata": {},
     "output_type": "execute_result"
    }
   ],
   "source": [
    "list_var_discrets = list(data.select_dtypes('object').columns)\n",
    "list_var_discrets"
   ]
  },
  {
   "cell_type": "code",
   "execution_count": 39,
   "metadata": {
    "scrolled": true
   },
   "outputs": [
    {
     "data": {
      "text/plain": [
       "Market           0.003857\n",
       "Property Type    0.000000\n",
       "Room Type        0.000000\n",
       "Bed Type         0.000000\n",
       "dtype: float64"
      ]
     },
     "execution_count": 39,
     "metadata": {},
     "output_type": "execute_result"
    }
   ],
   "source": [
    "data[list_var_discrets].isna().mean()"
   ]
  },
  {
   "cell_type": "code",
   "execution_count": 40,
   "metadata": {
    "scrolled": true
   },
   "outputs": [
    {
     "data": {
      "text/html": [
       "<div>\n",
       "<style scoped>\n",
       "    .dataframe tbody tr th:only-of-type {\n",
       "        vertical-align: middle;\n",
       "    }\n",
       "\n",
       "    .dataframe tbody tr th {\n",
       "        vertical-align: top;\n",
       "    }\n",
       "\n",
       "    .dataframe thead th {\n",
       "        text-align: right;\n",
       "    }\n",
       "</style>\n",
       "<table border=\"1\" class=\"dataframe\">\n",
       "  <thead>\n",
       "    <tr style=\"text-align: right;\">\n",
       "      <th></th>\n",
       "      <th>Market</th>\n",
       "      <th>Property Type</th>\n",
       "      <th>Room Type</th>\n",
       "      <th>Bed Type</th>\n",
       "    </tr>\n",
       "  </thead>\n",
       "  <tbody>\n",
       "    <tr>\n",
       "      <th>0</th>\n",
       "      <td>Austin</td>\n",
       "      <td>Apartment</td>\n",
       "      <td>Entire home/apt</td>\n",
       "      <td>Real Bed</td>\n",
       "    </tr>\n",
       "    <tr>\n",
       "      <th>1</th>\n",
       "      <td>Barcelona</td>\n",
       "      <td>Apartment</td>\n",
       "      <td>Entire home/apt</td>\n",
       "      <td>Real Bed</td>\n",
       "    </tr>\n",
       "    <tr>\n",
       "      <th>2</th>\n",
       "      <td>Barcelona</td>\n",
       "      <td>Apartment</td>\n",
       "      <td>Entire home/apt</td>\n",
       "      <td>Real Bed</td>\n",
       "    </tr>\n",
       "    <tr>\n",
       "      <th>3</th>\n",
       "      <td>Barcelona</td>\n",
       "      <td>Apartment</td>\n",
       "      <td>Entire home/apt</td>\n",
       "      <td>Real Bed</td>\n",
       "    </tr>\n",
       "    <tr>\n",
       "      <th>4</th>\n",
       "      <td>Barcelona</td>\n",
       "      <td>Apartment</td>\n",
       "      <td>Entire home/apt</td>\n",
       "      <td>Real Bed</td>\n",
       "    </tr>\n",
       "    <tr>\n",
       "      <th>...</th>\n",
       "      <td>...</td>\n",
       "      <td>...</td>\n",
       "      <td>...</td>\n",
       "      <td>...</td>\n",
       "    </tr>\n",
       "    <tr>\n",
       "      <th>14775</th>\n",
       "      <td>New York</td>\n",
       "      <td>Apartment</td>\n",
       "      <td>Entire home/apt</td>\n",
       "      <td>Real Bed</td>\n",
       "    </tr>\n",
       "    <tr>\n",
       "      <th>14776</th>\n",
       "      <td>Paris</td>\n",
       "      <td>Other</td>\n",
       "      <td>Private room</td>\n",
       "      <td>Real Bed</td>\n",
       "    </tr>\n",
       "    <tr>\n",
       "      <th>14777</th>\n",
       "      <td>Paris</td>\n",
       "      <td>Apartment</td>\n",
       "      <td>Entire home/apt</td>\n",
       "      <td>Real Bed</td>\n",
       "    </tr>\n",
       "    <tr>\n",
       "      <th>14778</th>\n",
       "      <td>Denver</td>\n",
       "      <td>Apartment</td>\n",
       "      <td>Entire home/apt</td>\n",
       "      <td>Real Bed</td>\n",
       "    </tr>\n",
       "    <tr>\n",
       "      <th>14779</th>\n",
       "      <td>Seattle</td>\n",
       "      <td>House</td>\n",
       "      <td>Private room</td>\n",
       "      <td>Real Bed</td>\n",
       "    </tr>\n",
       "  </tbody>\n",
       "</table>\n",
       "<p>14780 rows × 4 columns</p>\n",
       "</div>"
      ],
      "text/plain": [
       "          Market Property Type        Room Type  Bed Type\n",
       "0         Austin     Apartment  Entire home/apt  Real Bed\n",
       "1      Barcelona     Apartment  Entire home/apt  Real Bed\n",
       "2      Barcelona     Apartment  Entire home/apt  Real Bed\n",
       "3      Barcelona     Apartment  Entire home/apt  Real Bed\n",
       "4      Barcelona     Apartment  Entire home/apt  Real Bed\n",
       "...          ...           ...              ...       ...\n",
       "14775   New York     Apartment  Entire home/apt  Real Bed\n",
       "14776      Paris         Other     Private room  Real Bed\n",
       "14777      Paris     Apartment  Entire home/apt  Real Bed\n",
       "14778     Denver     Apartment  Entire home/apt  Real Bed\n",
       "14779    Seattle         House     Private room  Real Bed\n",
       "\n",
       "[14780 rows x 4 columns]"
      ]
     },
     "execution_count": 40,
     "metadata": {},
     "output_type": "execute_result"
    }
   ],
   "source": [
    "data[list_var_discrets]"
   ]
  },
  {
   "cell_type": "markdown",
   "metadata": {},
   "source": [
    "La única variable con missing es Market, ésta variable designa una zona en la que está el piso, suponemos que si no está en dichas zonas , entonces está en otras "
   ]
  },
  {
   "cell_type": "code",
   "execution_count": 41,
   "metadata": {},
   "outputs": [],
   "source": [
    "data['Market']=data['Market'].fillna('Other')"
   ]
  },
  {
   "cell_type": "markdown",
   "metadata": {},
   "source": [
    "# 5. Distribución de pisos en cuanto al precio"
   ]
  },
  {
   "cell_type": "code",
   "execution_count": 42,
   "metadata": {},
   "outputs": [
    {
     "data": {
      "image/png": "[encoded data removed]",
      "text/plain": [
       "<Figure size 1440x288 with 1 Axes>"
      ]
     },
     "metadata": {},
     "output_type": "display_data"
    }
   ],
   "source": [
    "plt.figure(figsize=(20,4))\n",
    "y.hist(bins=100, range=(0,max(y)))\n",
    "plt.margins(x=0)\n",
    "plt.axvline(200, color='red', linestyle='--')\n",
    "plt.title(\"Número de Airbnb por precio\", fontsize=16)\n",
    "plt.xlabel(\"Precio \")\n",
    "plt.ylabel(\"Número de Airbnb\")\n",
    "plt.show()"
   ]
  },
  {
   "cell_type": "markdown",
   "metadata": {},
   "source": [
    "No parece ser un factor muy importante, aunque sí crece poco a poco. el Dato de las 33 es algo completamente aleatorio, es posible que solo haya un dato con 33 'Amenities'"
   ]
  },
  {
   "cell_type": "markdown",
   "metadata": {},
   "source": [
    "En vista de este gráfico y debido a la baja frecuencia relativa de algunos precios, vamos a filtrar el dataset, y escogeremos las observaciones correspondientes a los airbnb con precios menores que 220."
   ]
  },
  {
   "cell_type": "code",
   "execution_count": 43,
   "metadata": {},
   "outputs": [],
   "source": [
    "data = pd.concat([y,data],axis=1)"
   ]
  },
  {
   "cell_type": "code",
   "execution_count": 44,
   "metadata": {},
   "outputs": [
    {
     "data": {
      "text/plain": [
       "(14300, 41)"
      ]
     },
     "execution_count": 44,
     "metadata": {},
     "output_type": "execute_result"
    }
   ],
   "source": [
    "datos = data.drop(data[data['Price']>220].index)\n",
    "datos.shape"
   ]
  },
  {
   "cell_type": "code",
   "execution_count": 45,
   "metadata": {},
   "outputs": [
    {
     "data": {
      "text/html": [
       "<div>\n",
       "<style scoped>\n",
       "    .dataframe tbody tr th:only-of-type {\n",
       "        vertical-align: middle;\n",
       "    }\n",
       "\n",
       "    .dataframe tbody tr th {\n",
       "        vertical-align: top;\n",
       "    }\n",
       "\n",
       "    .dataframe thead th {\n",
       "        text-align: right;\n",
       "    }\n",
       "</style>\n",
       "<table border=\"1\" class=\"dataframe\">\n",
       "  <thead>\n",
       "    <tr style=\"text-align: right;\">\n",
       "      <th></th>\n",
       "      <th>Price</th>\n",
       "      <th>Host Since</th>\n",
       "      <th>Host Response Rate</th>\n",
       "      <th>Market</th>\n",
       "      <th>Property Type</th>\n",
       "      <th>Room Type</th>\n",
       "      <th>Accommodates</th>\n",
       "      <th>Bathrooms</th>\n",
       "      <th>Bedrooms</th>\n",
       "      <th>Beds</th>\n",
       "      <th>...</th>\n",
       "      <th>Amenities_8</th>\n",
       "      <th>Amenities_9</th>\n",
       "      <th>Amenities_10</th>\n",
       "      <th>Amenities_11</th>\n",
       "      <th>Features_0</th>\n",
       "      <th>Features_1</th>\n",
       "      <th>Features_2</th>\n",
       "      <th>Host Verifications_0</th>\n",
       "      <th>Host Verifications_1</th>\n",
       "      <th>Host Verifications_2</th>\n",
       "    </tr>\n",
       "  </thead>\n",
       "  <tbody>\n",
       "    <tr>\n",
       "      <th>0</th>\n",
       "      <td>58.0</td>\n",
       "      <td>421.0</td>\n",
       "      <td>100.0</td>\n",
       "      <td>Austin</td>\n",
       "      <td>Apartment</td>\n",
       "      <td>Entire home/apt</td>\n",
       "      <td>2</td>\n",
       "      <td>1.0</td>\n",
       "      <td>1.0</td>\n",
       "      <td>1.0</td>\n",
       "      <td>...</td>\n",
       "      <td>-0.497726</td>\n",
       "      <td>0.257800</td>\n",
       "      <td>0.659523</td>\n",
       "      <td>0.118278</td>\n",
       "      <td>-0.441616</td>\n",
       "      <td>-0.630208</td>\n",
       "      <td>-0.066578</td>\n",
       "      <td>-0.619940</td>\n",
       "      <td>-0.101797</td>\n",
       "      <td>0.106469</td>\n",
       "    </tr>\n",
       "    <tr>\n",
       "      <th>1</th>\n",
       "      <td>70.0</td>\n",
       "      <td>150.0</td>\n",
       "      <td>100.0</td>\n",
       "      <td>Barcelona</td>\n",
       "      <td>Apartment</td>\n",
       "      <td>Entire home/apt</td>\n",
       "      <td>4</td>\n",
       "      <td>1.0</td>\n",
       "      <td>1.0</td>\n",
       "      <td>1.0</td>\n",
       "      <td>...</td>\n",
       "      <td>0.335664</td>\n",
       "      <td>0.002440</td>\n",
       "      <td>0.850754</td>\n",
       "      <td>0.616344</td>\n",
       "      <td>0.531915</td>\n",
       "      <td>0.912232</td>\n",
       "      <td>0.267454</td>\n",
       "      <td>-0.541394</td>\n",
       "      <td>-0.128328</td>\n",
       "      <td>-0.093625</td>\n",
       "    </tr>\n",
       "    <tr>\n",
       "      <th>2</th>\n",
       "      <td>70.0</td>\n",
       "      <td>150.0</td>\n",
       "      <td>100.0</td>\n",
       "      <td>Barcelona</td>\n",
       "      <td>Apartment</td>\n",
       "      <td>Entire home/apt</td>\n",
       "      <td>4</td>\n",
       "      <td>1.0</td>\n",
       "      <td>1.0</td>\n",
       "      <td>1.0</td>\n",
       "      <td>...</td>\n",
       "      <td>0.335664</td>\n",
       "      <td>0.002440</td>\n",
       "      <td>0.850754</td>\n",
       "      <td>0.616344</td>\n",
       "      <td>0.531915</td>\n",
       "      <td>0.912232</td>\n",
       "      <td>0.267454</td>\n",
       "      <td>-0.541394</td>\n",
       "      <td>-0.128328</td>\n",
       "      <td>-0.093625</td>\n",
       "    </tr>\n",
       "    <tr>\n",
       "      <th>4</th>\n",
       "      <td>149.0</td>\n",
       "      <td>451.0</td>\n",
       "      <td>99.0</td>\n",
       "      <td>Barcelona</td>\n",
       "      <td>Apartment</td>\n",
       "      <td>Entire home/apt</td>\n",
       "      <td>5</td>\n",
       "      <td>1.0</td>\n",
       "      <td>2.0</td>\n",
       "      <td>2.0</td>\n",
       "      <td>...</td>\n",
       "      <td>0.018904</td>\n",
       "      <td>0.224963</td>\n",
       "      <td>-0.046520</td>\n",
       "      <td>-0.049168</td>\n",
       "      <td>-0.717360</td>\n",
       "      <td>0.388629</td>\n",
       "      <td>-0.098217</td>\n",
       "      <td>0.218679</td>\n",
       "      <td>-0.313825</td>\n",
       "      <td>-0.301971</td>\n",
       "    </tr>\n",
       "    <tr>\n",
       "      <th>5</th>\n",
       "      <td>106.0</td>\n",
       "      <td>451.0</td>\n",
       "      <td>99.0</td>\n",
       "      <td>Barcelona</td>\n",
       "      <td>Apartment</td>\n",
       "      <td>Entire home/apt</td>\n",
       "      <td>6</td>\n",
       "      <td>1.0</td>\n",
       "      <td>2.0</td>\n",
       "      <td>3.0</td>\n",
       "      <td>...</td>\n",
       "      <td>-0.213692</td>\n",
       "      <td>0.384303</td>\n",
       "      <td>-0.184496</td>\n",
       "      <td>-0.111458</td>\n",
       "      <td>-0.717360</td>\n",
       "      <td>0.388629</td>\n",
       "      <td>-0.098217</td>\n",
       "      <td>0.218679</td>\n",
       "      <td>-0.313825</td>\n",
       "      <td>-0.301971</td>\n",
       "    </tr>\n",
       "  </tbody>\n",
       "</table>\n",
       "<p>5 rows × 41 columns</p>\n",
       "</div>"
      ],
      "text/plain": [
       "   Price  Host Since  Host Response Rate     Market Property Type  \\\n",
       "0   58.0       421.0               100.0     Austin     Apartment   \n",
       "1   70.0       150.0               100.0  Barcelona     Apartment   \n",
       "2   70.0       150.0               100.0  Barcelona     Apartment   \n",
       "4  149.0       451.0                99.0  Barcelona     Apartment   \n",
       "5  106.0       451.0                99.0  Barcelona     Apartment   \n",
       "\n",
       "         Room Type  Accommodates  Bathrooms  Bedrooms  Beds  ... Amenities_8  \\\n",
       "0  Entire home/apt             2        1.0       1.0   1.0  ...   -0.497726   \n",
       "1  Entire home/apt             4        1.0       1.0   1.0  ...    0.335664   \n",
       "2  Entire home/apt             4        1.0       1.0   1.0  ...    0.335664   \n",
       "4  Entire home/apt             5        1.0       2.0   2.0  ...    0.018904   \n",
       "5  Entire home/apt             6        1.0       2.0   3.0  ...   -0.213692   \n",
       "\n",
       "   Amenities_9  Amenities_10  Amenities_11  Features_0  Features_1  \\\n",
       "0     0.257800      0.659523      0.118278   -0.441616   -0.630208   \n",
       "1     0.002440      0.850754      0.616344    0.531915    0.912232   \n",
       "2     0.002440      0.850754      0.616344    0.531915    0.912232   \n",
       "4     0.224963     -0.046520     -0.049168   -0.717360    0.388629   \n",
       "5     0.384303     -0.184496     -0.111458   -0.717360    0.388629   \n",
       "\n",
       "   Features_2  Host Verifications_0  Host Verifications_1  \\\n",
       "0   -0.066578             -0.619940             -0.101797   \n",
       "1    0.267454             -0.541394             -0.128328   \n",
       "2    0.267454             -0.541394             -0.128328   \n",
       "4   -0.098217              0.218679             -0.313825   \n",
       "5   -0.098217              0.218679             -0.313825   \n",
       "\n",
       "   Host Verifications_2  \n",
       "0              0.106469  \n",
       "1             -0.093625  \n",
       "2             -0.093625  \n",
       "4             -0.301971  \n",
       "5             -0.301971  \n",
       "\n",
       "[5 rows x 41 columns]"
      ]
     },
     "execution_count": 45,
     "metadata": {},
     "output_type": "execute_result"
    }
   ],
   "source": [
    "datos.head()"
   ]
  },
  {
   "cell_type": "code",
   "execution_count": 46,
   "metadata": {},
   "outputs": [],
   "source": [
    "#Actualizamos los indices\n",
    "datos = datos.reset_index(drop=True)"
   ]
  },
  {
   "cell_type": "markdown",
   "metadata": {},
   "source": [
    "Hemos reducido unos 500 datos, y en general, los descriptivos de interés como el precio medio sigue siendo similar al anterior:"
   ]
  },
  {
   "cell_type": "code",
   "execution_count": 47,
   "metadata": {},
   "outputs": [
    {
     "data": {
      "text/html": [
       "<div>\n",
       "<style scoped>\n",
       "    .dataframe tbody tr th:only-of-type {\n",
       "        vertical-align: middle;\n",
       "    }\n",
       "\n",
       "    .dataframe tbody tr th {\n",
       "        vertical-align: top;\n",
       "    }\n",
       "\n",
       "    .dataframe thead th {\n",
       "        text-align: right;\n",
       "    }\n",
       "</style>\n",
       "<table border=\"1\" class=\"dataframe\">\n",
       "  <thead>\n",
       "    <tr style=\"text-align: right;\">\n",
       "      <th></th>\n",
       "      <th>Price</th>\n",
       "      <th>Host Since</th>\n",
       "      <th>Host Response Rate</th>\n",
       "      <th>Accommodates</th>\n",
       "      <th>Bathrooms</th>\n",
       "      <th>Bedrooms</th>\n",
       "      <th>Beds</th>\n",
       "      <th>Cleaning Fee</th>\n",
       "      <th>Guests Included</th>\n",
       "      <th>Extra People</th>\n",
       "      <th>...</th>\n",
       "      <th>Amenities_8</th>\n",
       "      <th>Amenities_9</th>\n",
       "      <th>Amenities_10</th>\n",
       "      <th>Amenities_11</th>\n",
       "      <th>Features_0</th>\n",
       "      <th>Features_1</th>\n",
       "      <th>Features_2</th>\n",
       "      <th>Host Verifications_0</th>\n",
       "      <th>Host Verifications_1</th>\n",
       "      <th>Host Verifications_2</th>\n",
       "    </tr>\n",
       "  </thead>\n",
       "  <tbody>\n",
       "    <tr>\n",
       "      <th>count</th>\n",
       "      <td>14283.000000</td>\n",
       "      <td>14300.000000</td>\n",
       "      <td>14300.000000</td>\n",
       "      <td>14300.000000</td>\n",
       "      <td>14300.000000</td>\n",
       "      <td>14300.000000</td>\n",
       "      <td>14300.000000</td>\n",
       "      <td>14300.000000</td>\n",
       "      <td>14300.000000</td>\n",
       "      <td>14300.000000</td>\n",
       "      <td>...</td>\n",
       "      <td>14300.000000</td>\n",
       "      <td>14300.000000</td>\n",
       "      <td>14300.000000</td>\n",
       "      <td>14300.000000</td>\n",
       "      <td>14300.000000</td>\n",
       "      <td>14300.000000</td>\n",
       "      <td>14300.000000</td>\n",
       "      <td>14300.000000</td>\n",
       "      <td>14300.000000</td>\n",
       "      <td>14300.000000</td>\n",
       "    </tr>\n",
       "    <tr>\n",
       "      <th>mean</th>\n",
       "      <td>63.710635</td>\n",
       "      <td>929.023986</td>\n",
       "      <td>94.852254</td>\n",
       "      <td>3.162657</td>\n",
       "      <td>1.235594</td>\n",
       "      <td>1.286154</td>\n",
       "      <td>1.953566</td>\n",
       "      <td>17.434685</td>\n",
       "      <td>1.554336</td>\n",
       "      <td>7.563427</td>\n",
       "      <td>...</td>\n",
       "      <td>-0.000412</td>\n",
       "      <td>0.004793</td>\n",
       "      <td>0.001943</td>\n",
       "      <td>-0.009541</td>\n",
       "      <td>0.000780</td>\n",
       "      <td>0.001542</td>\n",
       "      <td>-0.002481</td>\n",
       "      <td>0.000002</td>\n",
       "      <td>0.001517</td>\n",
       "      <td>0.000338</td>\n",
       "    </tr>\n",
       "    <tr>\n",
       "      <th>std</th>\n",
       "      <td>40.793619</td>\n",
       "      <td>589.130465</td>\n",
       "      <td>14.069038</td>\n",
       "      <td>1.899158</td>\n",
       "      <td>0.574646</td>\n",
       "      <td>0.795692</td>\n",
       "      <td>1.445786</td>\n",
       "      <td>23.562381</td>\n",
       "      <td>1.050071</td>\n",
       "      <td>12.075280</td>\n",
       "      <td>...</td>\n",
       "      <td>0.417139</td>\n",
       "      <td>0.404830</td>\n",
       "      <td>0.396764</td>\n",
       "      <td>0.379385</td>\n",
       "      <td>0.509256</td>\n",
       "      <td>0.475284</td>\n",
       "      <td>0.468852</td>\n",
       "      <td>0.552115</td>\n",
       "      <td>0.406380</td>\n",
       "      <td>0.357576</td>\n",
       "    </tr>\n",
       "    <tr>\n",
       "      <th>min</th>\n",
       "      <td>9.000000</td>\n",
       "      <td>0.000000</td>\n",
       "      <td>0.000000</td>\n",
       "      <td>1.000000</td>\n",
       "      <td>0.000000</td>\n",
       "      <td>0.000000</td>\n",
       "      <td>0.000000</td>\n",
       "      <td>0.000000</td>\n",
       "      <td>0.000000</td>\n",
       "      <td>0.000000</td>\n",
       "      <td>...</td>\n",
       "      <td>-1.452791</td>\n",
       "      <td>-1.478814</td>\n",
       "      <td>-1.361410</td>\n",
       "      <td>-1.230550</td>\n",
       "      <td>-0.914326</td>\n",
       "      <td>-0.689545</td>\n",
       "      <td>-0.610753</td>\n",
       "      <td>-0.783187</td>\n",
       "      <td>-0.347093</td>\n",
       "      <td>-0.793154</td>\n",
       "    </tr>\n",
       "    <tr>\n",
       "      <th>25%</th>\n",
       "      <td>32.000000</td>\n",
       "      <td>449.750000</td>\n",
       "      <td>94.823461</td>\n",
       "      <td>2.000000</td>\n",
       "      <td>1.000000</td>\n",
       "      <td>1.000000</td>\n",
       "      <td>1.000000</td>\n",
       "      <td>0.000000</td>\n",
       "      <td>1.000000</td>\n",
       "      <td>0.000000</td>\n",
       "      <td>...</td>\n",
       "      <td>-0.277948</td>\n",
       "      <td>-0.272407</td>\n",
       "      <td>-0.263629</td>\n",
       "      <td>-0.288017</td>\n",
       "      <td>-0.328365</td>\n",
       "      <td>-0.384494</td>\n",
       "      <td>-0.562877</td>\n",
       "      <td>-0.606504</td>\n",
       "      <td>-0.313825</td>\n",
       "      <td>-0.301971</td>\n",
       "    </tr>\n",
       "    <tr>\n",
       "      <th>50%</th>\n",
       "      <td>55.000000</td>\n",
       "      <td>840.000000</td>\n",
       "      <td>100.000000</td>\n",
       "      <td>2.000000</td>\n",
       "      <td>1.000000</td>\n",
       "      <td>1.000000</td>\n",
       "      <td>1.000000</td>\n",
       "      <td>10.000000</td>\n",
       "      <td>1.000000</td>\n",
       "      <td>0.000000</td>\n",
       "      <td>...</td>\n",
       "      <td>-0.004604</td>\n",
       "      <td>0.013161</td>\n",
       "      <td>-0.000672</td>\n",
       "      <td>-0.053989</td>\n",
       "      <td>0.073205</td>\n",
       "      <td>-0.201356</td>\n",
       "      <td>-0.096672</td>\n",
       "      <td>0.218679</td>\n",
       "      <td>-0.116631</td>\n",
       "      <td>0.108515</td>\n",
       "    </tr>\n",
       "    <tr>\n",
       "      <th>75%</th>\n",
       "      <td>80.000000</td>\n",
       "      <td>1386.250000</td>\n",
       "      <td>100.000000</td>\n",
       "      <td>4.000000</td>\n",
       "      <td>1.000000</td>\n",
       "      <td>2.000000</td>\n",
       "      <td>2.000000</td>\n",
       "      <td>30.000000</td>\n",
       "      <td>2.000000</td>\n",
       "      <td>15.000000</td>\n",
       "      <td>...</td>\n",
       "      <td>0.270533</td>\n",
       "      <td>0.286944</td>\n",
       "      <td>0.272670</td>\n",
       "      <td>0.248911</td>\n",
       "      <td>0.462200</td>\n",
       "      <td>0.388629</td>\n",
       "      <td>0.268999</td>\n",
       "      <td>0.348983</td>\n",
       "      <td>0.004053</td>\n",
       "      <td>0.173323</td>\n",
       "    </tr>\n",
       "    <tr>\n",
       "      <th>max</th>\n",
       "      <td>220.000000</td>\n",
       "      <td>2882.000000</td>\n",
       "      <td>100.000000</td>\n",
       "      <td>16.000000</td>\n",
       "      <td>8.000000</td>\n",
       "      <td>10.000000</td>\n",
       "      <td>16.000000</td>\n",
       "      <td>662.000000</td>\n",
       "      <td>16.000000</td>\n",
       "      <td>500.000000</td>\n",
       "      <td>...</td>\n",
       "      <td>1.593618</td>\n",
       "      <td>1.551335</td>\n",
       "      <td>1.599311</td>\n",
       "      <td>1.458169</td>\n",
       "      <td>0.928753</td>\n",
       "      <td>0.914341</td>\n",
       "      <td>0.802330</td>\n",
       "      <td>1.218461</td>\n",
       "      <td>1.059353</td>\n",
       "      <td>1.271921</td>\n",
       "    </tr>\n",
       "  </tbody>\n",
       "</table>\n",
       "<p>8 rows × 37 columns</p>\n",
       "</div>"
      ],
      "text/plain": [
       "              Price    Host Since  Host Response Rate  Accommodates  \\\n",
       "count  14283.000000  14300.000000        14300.000000  14300.000000   \n",
       "mean      63.710635    929.023986           94.852254      3.162657   \n",
       "std       40.793619    589.130465           14.069038      1.899158   \n",
       "min        9.000000      0.000000            0.000000      1.000000   \n",
       "25%       32.000000    449.750000           94.823461      2.000000   \n",
       "50%       55.000000    840.000000          100.000000      2.000000   \n",
       "75%       80.000000   1386.250000          100.000000      4.000000   \n",
       "max      220.000000   2882.000000          100.000000     16.000000   \n",
       "\n",
       "          Bathrooms      Bedrooms          Beds  Cleaning Fee  \\\n",
       "count  14300.000000  14300.000000  14300.000000  14300.000000   \n",
       "mean       1.235594      1.286154      1.953566     17.434685   \n",
       "std        0.574646      0.795692      1.445786     23.562381   \n",
       "min        0.000000      0.000000      0.000000      0.000000   \n",
       "25%        1.000000      1.000000      1.000000      0.000000   \n",
       "50%        1.000000      1.000000      1.000000     10.000000   \n",
       "75%        1.000000      2.000000      2.000000     30.000000   \n",
       "max        8.000000     10.000000     16.000000    662.000000   \n",
       "\n",
       "       Guests Included  Extra People  ...   Amenities_8   Amenities_9  \\\n",
       "count     14300.000000  14300.000000  ...  14300.000000  14300.000000   \n",
       "mean          1.554336      7.563427  ...     -0.000412      0.004793   \n",
       "std           1.050071     12.075280  ...      0.417139      0.404830   \n",
       "min           0.000000      0.000000  ...     -1.452791     -1.478814   \n",
       "25%           1.000000      0.000000  ...     -0.277948     -0.272407   \n",
       "50%           1.000000      0.000000  ...     -0.004604      0.013161   \n",
       "75%           2.000000     15.000000  ...      0.270533      0.286944   \n",
       "max          16.000000    500.000000  ...      1.593618      1.551335   \n",
       "\n",
       "       Amenities_10  Amenities_11    Features_0    Features_1    Features_2  \\\n",
       "count  14300.000000  14300.000000  14300.000000  14300.000000  14300.000000   \n",
       "mean       0.001943     -0.009541      0.000780      0.001542     -0.002481   \n",
       "std        0.396764      0.379385      0.509256      0.475284      0.468852   \n",
       "min       -1.361410     -1.230550     -0.914326     -0.689545     -0.610753   \n",
       "25%       -0.263629     -0.288017     -0.328365     -0.384494     -0.562877   \n",
       "50%       -0.000672     -0.053989      0.073205     -0.201356     -0.096672   \n",
       "75%        0.272670      0.248911      0.462200      0.388629      0.268999   \n",
       "max        1.599311      1.458169      0.928753      0.914341      0.802330   \n",
       "\n",
       "       Host Verifications_0  Host Verifications_1  Host Verifications_2  \n",
       "count          14300.000000          14300.000000          14300.000000  \n",
       "mean               0.000002              0.001517              0.000338  \n",
       "std                0.552115              0.406380              0.357576  \n",
       "min               -0.783187             -0.347093             -0.793154  \n",
       "25%               -0.606504             -0.313825             -0.301971  \n",
       "50%                0.218679             -0.116631              0.108515  \n",
       "75%                0.348983              0.004053              0.173323  \n",
       "max                1.218461              1.059353              1.271921  \n",
       "\n",
       "[8 rows x 37 columns]"
      ]
     },
     "execution_count": 47,
     "metadata": {},
     "output_type": "execute_result"
    }
   ],
   "source": [
    "datos.describe()"
   ]
  },
  {
   "cell_type": "markdown",
   "metadata": {},
   "source": [
    "Hasta ahora no lo habíamos visto, pero hará falta tratamiento de missings en la variable objetivo:"
   ]
  },
  {
   "cell_type": "code",
   "execution_count": 48,
   "metadata": {},
   "outputs": [
    {
     "data": {
      "text/plain": [
       "Price                             17\n",
       "Host Since                         0\n",
       "Host Response Rate                 0\n",
       "Market                             0\n",
       "Property Type                      0\n",
       "Room Type                          0\n",
       "Accommodates                       0\n",
       "Bathrooms                          0\n",
       "Bedrooms                           0\n",
       "Beds                               0\n",
       "Bed Type                           0\n",
       "Cleaning Fee                       0\n",
       "Guests Included                    0\n",
       "Extra People                       0\n",
       "Minimum Nights                     0\n",
       "Maximum Nights                     0\n",
       "Availability 365                   0\n",
       "Number of Reviews                  0\n",
       "Review Scores Rating               0\n",
       "Cancellation Policy                0\n",
       "Calculated host listings count     0\n",
       "Reviews per Month                  0\n",
       "Geolocation                        0\n",
       "Amenities_0                        0\n",
       "Amenities_1                        0\n",
       "Amenities_2                        0\n",
       "Amenities_3                        0\n",
       "Amenities_4                        0\n",
       "Amenities_5                        0\n",
       "Amenities_6                        0\n",
       "Amenities_7                        0\n",
       "Amenities_8                        0\n",
       "Amenities_9                        0\n",
       "Amenities_10                       0\n",
       "Amenities_11                       0\n",
       "Features_0                         0\n",
       "Features_1                         0\n",
       "Features_2                         0\n",
       "Host Verifications_0               0\n",
       "Host Verifications_1               0\n",
       "Host Verifications_2               0\n",
       "dtype: int64"
      ]
     },
     "execution_count": 48,
     "metadata": {},
     "output_type": "execute_result"
    }
   ],
   "source": [
    "datos.isna().sum()"
   ]
  },
  {
   "cell_type": "markdown",
   "metadata": {},
   "source": [
    "Reemplazamos valores nulos por la media:"
   ]
  },
  {
   "cell_type": "code",
   "execution_count": 49,
   "metadata": {},
   "outputs": [],
   "source": [
    "datos['Price']=datos['Price'].fillna(datos['Price'].mean())"
   ]
  },
  {
   "cell_type": "markdown",
   "metadata": {},
   "source": [
    "### 5.1. Algunos gráficos de interés"
   ]
  },
  {
   "cell_type": "markdown",
   "metadata": {},
   "source": [
    "En primer lugar, veamos los histogramas de las variables continuas para hacernos una idea de su distribución"
   ]
  },
  {
   "cell_type": "code",
   "execution_count": 50,
   "metadata": {},
   "outputs": [
    {
     "data": {
      "image/png": "[encoded data removed]",
      "text/plain": [
       "<Figure size 1008x1512 with 42 Axes>"
      ]
     },
     "metadata": {},
     "output_type": "display_data"
    }
   ],
   "source": [
    "plt.rcParams['figure.figsize'] = (14,21)\n",
    "datos.hist()\n",
    "plt.show()"
   ]
  },
  {
   "cell_type": "markdown",
   "metadata": {},
   "source": [
    "Tras el PCA realizado, vemos que las variables de Amenities se distribuyen más o menos de forma normal, aunque en general, todas las demás variables presentan ausencia de normalidad.\n",
    "\n",
    "En cuanto a datos a tener en cuenta, vemos que la tasa de respuesta suele ser alta, lo más usual en accommodates suelen ser entre 1 y 5, suelen haber 1 ó 2 huéspedes incluidos (podríamos deducir que uno es el anfitrión), el anfitrión lleva de media unos 900 días ofreciendo alojamiento en la plataforma, y lo más usual es recibir una o dos reseñas al mes ."
   ]
  },
  {
   "cell_type": "markdown",
   "metadata": {},
   "source": [
    "### 5.2. Gráficos variable Price"
   ]
  },
  {
   "cell_type": "markdown",
   "metadata": {},
   "source": [
    "Vamos a estudiar gráficamente la variable 'Price' en función de otras variables, para hacernos una idea previa sobre qué atributos podrían influir en el precio"
   ]
  },
  {
   "cell_type": "code",
   "execution_count": 51,
   "metadata": {},
   "outputs": [
    {
     "data": {
      "text/plain": [
       "<AxesSubplot:xlabel='Number of Reviews', ylabel='Price'>"
      ]
     },
     "execution_count": 51,
     "metadata": {},
     "output_type": "execute_result"
    },
    {
     "data": {
      "image/png": "[encoded data removed]",
      "text/plain": [
       "<Figure size 648x360 with 1 Axes>"
      ]
     },
     "metadata": {},
     "output_type": "display_data"
    }
   ],
   "source": [
    "plt.rcParams['figure.figsize'] = (9,5)\n",
    "sns.scatterplot(x=datos['Number of Reviews'],y=datos['Price'])"
   ]
  },
  {
   "cell_type": "markdown",
   "metadata": {},
   "source": [
    "Podríamos deducir que el número de reseñas quizás influya en el precio, ya que, salvo algún posible outlier, vemos que los que presentan un número elevado de reseñas suelen tener un precio bajo. A su vez, los alojamientos con altos precios tienen pocas reseñas.\n",
    "\n",
    "Tiene sentido: a los alojamientos con altos precios acceden menos personas, por lo tanto, menos gente que escribe reseñas, y a los alojamientos baratos accederán más personas y escribirán más reseñas (sobretodo si el servicio ha sido malo, ya que reseñarán para desaconsejarlo por mala calidad, y en general la calidad de un producto suele reflejarse en el precio)"
   ]
  },
  {
   "cell_type": "code",
   "execution_count": 52,
   "metadata": {},
   "outputs": [
    {
     "data": {
      "text/plain": [
       "<AxesSubplot:xlabel='Review Scores Rating', ylabel='Price'>"
      ]
     },
     "execution_count": 52,
     "metadata": {},
     "output_type": "execute_result"
    },
    {
     "data": {
      "image/png": "[encoded data removed]",
      "text/plain": [
       "<Figure size 648x360 with 1 Axes>"
      ]
     },
     "metadata": {},
     "output_type": "display_data"
    }
   ],
   "source": [
    "plt.rcParams['figure.figsize'] = (9,5)\n",
    "sns.scatterplot(x=datos['Review Scores Rating'],y=datos['Price'])"
   ]
  },
  {
   "cell_type": "markdown",
   "metadata": {},
   "source": [
    "De forma similar, en consecuencia a lo que acabamos de comentar, vemos que la puntuación que ofrecen las reseñas parece relacionarse con el precio. Los alojamientos con altos precios presentan altas puntuaciones en las reseñas, mientras que los que presentan baja puntuación en las reseñas suelen ser alojamientos baratos.\n",
    "\n",
    "No obstante, claro que habrá alojamientos baratos con muy buenas reseñas, pero los que tienen reseñas malas, son baratos."
   ]
  },
  {
   "cell_type": "code",
   "execution_count": 53,
   "metadata": {},
   "outputs": [
    {
     "data": {
      "text/plain": [
       "<AxesSubplot:xlabel='Reviews per Month', ylabel='Price'>"
      ]
     },
     "execution_count": 53,
     "metadata": {},
     "output_type": "execute_result"
    },
    {
     "data": {
      "image/png": "[encoded data removed]",
      "text/plain": [
       "<Figure size 648x360 with 1 Axes>"
      ]
     },
     "metadata": {},
     "output_type": "display_data"
    }
   ],
   "source": [
    "plt.rcParams['figure.figsize'] = (9,5)\n",
    "sns.scatterplot(x=datos['Reviews per Month'],y=datos['Price'])"
   ]
  },
  {
   "cell_type": "markdown",
   "metadata": {},
   "source": [
    "En este gráfico podemos deducir los mismos resultados que en el de Number of Reviews. Tal vez, en el posterior análisis de regresión, se deba prescindir de esta variable."
   ]
  },
  {
   "cell_type": "markdown",
   "metadata": {},
   "source": [
    "Los gráficos de la variable precio en función de las demás variables continuas no arrojaban resultados de interés."
   ]
  },
  {
   "cell_type": "markdown",
   "metadata": {},
   "source": [
    "Analicemos el precio medio en función las variables categóricas:"
   ]
  },
  {
   "cell_type": "code",
   "execution_count": 54,
   "metadata": {},
   "outputs": [
    {
     "data": {
      "text/plain": [
       "<AxesSubplot:xlabel='Property Type'>"
      ]
     },
     "execution_count": 54,
     "metadata": {},
     "output_type": "execute_result"
    },
    {
     "data": {
      "image/png": "[encoded data removed]",
      "text/plain": [
       "<Figure size 648x288 with 1 Axes>"
      ]
     },
     "metadata": {},
     "output_type": "display_data"
    }
   ],
   "source": [
    "plt.rcParams['figure.figsize'] = (9,4)\n",
    "pd.DataFrame(datos.groupby('Property Type')['Price'].mean().sort_values(ascending=False)).plot(kind='bar')"
   ]
  },
  {
   "cell_type": "markdown",
   "metadata": {},
   "source": [
    "Podemos sospechar que no hay diferencias significativas sobre el precio entre alojarse en un apartamento y una casa. En cambio, si elegimos la otra opción el precio será inferior (tiene sentido)"
   ]
  },
  {
   "cell_type": "code",
   "execution_count": 55,
   "metadata": {},
   "outputs": [
    {
     "data": {
      "text/plain": [
       "<AxesSubplot:xlabel='Room Type'>"
      ]
     },
     "execution_count": 55,
     "metadata": {},
     "output_type": "execute_result"
    },
    {
     "data": {
      "image/png": "[encoded data removed]",
      "text/plain": [
       "<Figure size 648x288 with 1 Axes>"
      ]
     },
     "metadata": {},
     "output_type": "display_data"
    }
   ],
   "source": [
    "plt.rcParams['figure.figsize'] = (9,4)\n",
    "pd.DataFrame(datos.groupby('Room Type')['Price'].mean().sort_values(ascending=False)).plot(kind='bar')"
   ]
  },
  {
   "cell_type": "markdown",
   "metadata": {},
   "source": [
    "Era previsible imaginar que el precio se encarecerá si tenemos todo el inmueble a nuestra disposición. No obstante, curiosamente el precio entre una habitación privada y una compartida parecen ser algo similares."
   ]
  },
  {
   "cell_type": "code",
   "execution_count": 56,
   "metadata": {},
   "outputs": [
    {
     "data": {
      "text/plain": [
       "<AxesSubplot:xlabel='Bed Type'>"
      ]
     },
     "execution_count": 56,
     "metadata": {},
     "output_type": "execute_result"
    },
    {
     "data": {
      "image/png": "[encoded data removed]",
      "text/plain": [
       "<Figure size 648x288 with 1 Axes>"
      ]
     },
     "metadata": {},
     "output_type": "display_data"
    }
   ],
   "source": [
    "plt.rcParams['figure.figsize'] = (9,4)\n",
    "pd.DataFrame(datos.groupby('Bed Type')['Price'].mean().sort_values(ascending=False)).plot(kind='bar')"
   ]
  },
  {
   "cell_type": "markdown",
   "metadata": {},
   "source": [
    "Podríamos pensar que el precio medio va acorde al tipo de cama, aunque no parece haber diferencias excesivas."
   ]
  },
  {
   "cell_type": "markdown",
   "metadata": {},
   "source": [
    "Veamos el precio medio en función de las ciudades:"
   ]
  },
  {
   "cell_type": "code",
   "execution_count": 57,
   "metadata": {},
   "outputs": [
    {
     "data": {
      "text/plain": [
       "<AxesSubplot:xlabel='Market'>"
      ]
     },
     "execution_count": 57,
     "metadata": {},
     "output_type": "execute_result"
    },
    {
     "data": {
      "image/png": "[encoded data removed]",
      "text/plain": [
       "<Figure size 1008x432 with 1 Axes>"
      ]
     },
     "metadata": {},
     "output_type": "display_data"
    }
   ],
   "source": [
    "plt.rcParams['figure.figsize'] = (14,6)\n",
    "pd.DataFrame(datos.groupby('Market')['Price'].mean().sort_values(ascending=False)).plot(kind='bar')"
   ]
  },
  {
   "cell_type": "markdown",
   "metadata": {},
   "source": [
    "# 6. Encoding y escalado de variables"
   ]
  },
  {
   "cell_type": "markdown",
   "metadata": {},
   "source": [
    "### 6.1. Encoding"
   ]
  },
  {
   "cell_type": "markdown",
   "metadata": {},
   "source": [
    "Respecto a las variables categóricas, haremos un encoding para finalmente poder trabajar con todas las variables juntas.\n",
    "\n",
    "Tanto Property Type, como Room Type y Bed Type las codificamos de forma binaria con OneHotEncoder.\n",
    "\n",
    "La variable Market la codificamos mediante CatBoostEncoder, ya que contiene muchos valores y cada uno tendrá un peso distinto"
   ]
  },
  {
   "cell_type": "code",
   "execution_count": 58,
   "metadata": {},
   "outputs": [],
   "source": [
    "ohe = OneHotEncoder()\n",
    "oh_array = ohe.fit_transform(datos['Property Type'].values.reshape(-1, 1)).toarray()\n",
    "oh_df = pd.DataFrame(oh_array,columns=['Apartment','House','Other'])\n",
    "datos = pd.concat([datos,oh_df],axis=1)\n",
    "datos = datos.drop(columns='Property Type')"
   ]
  },
  {
   "cell_type": "code",
   "execution_count": 59,
   "metadata": {},
   "outputs": [],
   "source": [
    "ohe = OneHotEncoder()\n",
    "oh_array = ohe.fit_transform(datos['Room Type'].values.reshape(-1, 1)).toarray()\n",
    "oh_df = pd.DataFrame(oh_array,columns=['Entire home/apt','Private room','Shared room'])\n",
    "datos = pd.concat([datos,oh_df],axis=1)\n",
    "datos = datos.drop(columns='Room Type')"
   ]
  },
  {
   "cell_type": "code",
   "execution_count": 60,
   "metadata": {},
   "outputs": [],
   "source": [
    "ohe = OneHotEncoder()\n",
    "oh_array = ohe.fit_transform(datos['Bed Type'].values.reshape(-1, 1)).toarray()\n",
    "oh_df = pd.DataFrame(oh_array,columns=['Airbed','Couch','Futon','Pull-out Sofa','Real Bed'])\n",
    "datos = pd.concat([datos,oh_df],axis=1)\n",
    "datos = datos.drop(columns='Bed Type')"
   ]
  },
  {
   "cell_type": "code",
   "execution_count": 61,
   "metadata": {},
   "outputs": [],
   "source": [
    "cbe = ce.CatBoostEncoder(cols=['Market'])\n",
    "datos['Market_CBE'] = cbe.fit_transform(datos['Market'],datos.Price)\n",
    "datos = datos.drop(columns='Market')"
   ]
  },
  {
   "cell_type": "code",
   "execution_count": 62,
   "metadata": {},
   "outputs": [
    {
     "data": {
      "text/html": [
       "<div>\n",
       "<style scoped>\n",
       "    .dataframe tbody tr th:only-of-type {\n",
       "        vertical-align: middle;\n",
       "    }\n",
       "\n",
       "    .dataframe tbody tr th {\n",
       "        vertical-align: top;\n",
       "    }\n",
       "\n",
       "    .dataframe thead th {\n",
       "        text-align: right;\n",
       "    }\n",
       "</style>\n",
       "<table border=\"1\" class=\"dataframe\">\n",
       "  <thead>\n",
       "    <tr style=\"text-align: right;\">\n",
       "      <th></th>\n",
       "      <th>Price</th>\n",
       "      <th>Host Since</th>\n",
       "      <th>Host Response Rate</th>\n",
       "      <th>Accommodates</th>\n",
       "      <th>Bathrooms</th>\n",
       "      <th>Bedrooms</th>\n",
       "      <th>Beds</th>\n",
       "      <th>Cleaning Fee</th>\n",
       "      <th>Guests Included</th>\n",
       "      <th>Extra People</th>\n",
       "      <th>...</th>\n",
       "      <th>Other</th>\n",
       "      <th>Entire home/apt</th>\n",
       "      <th>Private room</th>\n",
       "      <th>Shared room</th>\n",
       "      <th>Airbed</th>\n",
       "      <th>Couch</th>\n",
       "      <th>Futon</th>\n",
       "      <th>Pull-out Sofa</th>\n",
       "      <th>Real Bed</th>\n",
       "      <th>Market_CBE</th>\n",
       "    </tr>\n",
       "  </thead>\n",
       "  <tbody>\n",
       "    <tr>\n",
       "      <th>0</th>\n",
       "      <td>58.0</td>\n",
       "      <td>421.0</td>\n",
       "      <td>100.0</td>\n",
       "      <td>2</td>\n",
       "      <td>1.0</td>\n",
       "      <td>1.0</td>\n",
       "      <td>1.0</td>\n",
       "      <td>0.0</td>\n",
       "      <td>1</td>\n",
       "      <td>0</td>\n",
       "      <td>...</td>\n",
       "      <td>0.0</td>\n",
       "      <td>1.0</td>\n",
       "      <td>0.0</td>\n",
       "      <td>0.0</td>\n",
       "      <td>0.0</td>\n",
       "      <td>0.0</td>\n",
       "      <td>0.0</td>\n",
       "      <td>0.0</td>\n",
       "      <td>1.0</td>\n",
       "      <td>63.710635</td>\n",
       "    </tr>\n",
       "    <tr>\n",
       "      <th>1</th>\n",
       "      <td>70.0</td>\n",
       "      <td>150.0</td>\n",
       "      <td>100.0</td>\n",
       "      <td>4</td>\n",
       "      <td>1.0</td>\n",
       "      <td>1.0</td>\n",
       "      <td>1.0</td>\n",
       "      <td>40.0</td>\n",
       "      <td>2</td>\n",
       "      <td>44</td>\n",
       "      <td>...</td>\n",
       "      <td>0.0</td>\n",
       "      <td>1.0</td>\n",
       "      <td>0.0</td>\n",
       "      <td>0.0</td>\n",
       "      <td>0.0</td>\n",
       "      <td>0.0</td>\n",
       "      <td>0.0</td>\n",
       "      <td>0.0</td>\n",
       "      <td>1.0</td>\n",
       "      <td>63.710635</td>\n",
       "    </tr>\n",
       "    <tr>\n",
       "      <th>2</th>\n",
       "      <td>70.0</td>\n",
       "      <td>150.0</td>\n",
       "      <td>100.0</td>\n",
       "      <td>4</td>\n",
       "      <td>1.0</td>\n",
       "      <td>1.0</td>\n",
       "      <td>1.0</td>\n",
       "      <td>60.0</td>\n",
       "      <td>2</td>\n",
       "      <td>42</td>\n",
       "      <td>...</td>\n",
       "      <td>0.0</td>\n",
       "      <td>1.0</td>\n",
       "      <td>0.0</td>\n",
       "      <td>0.0</td>\n",
       "      <td>0.0</td>\n",
       "      <td>0.0</td>\n",
       "      <td>0.0</td>\n",
       "      <td>0.0</td>\n",
       "      <td>1.0</td>\n",
       "      <td>66.855318</td>\n",
       "    </tr>\n",
       "    <tr>\n",
       "      <th>3</th>\n",
       "      <td>149.0</td>\n",
       "      <td>451.0</td>\n",
       "      <td>99.0</td>\n",
       "      <td>5</td>\n",
       "      <td>1.0</td>\n",
       "      <td>2.0</td>\n",
       "      <td>2.0</td>\n",
       "      <td>55.0</td>\n",
       "      <td>1</td>\n",
       "      <td>0</td>\n",
       "      <td>...</td>\n",
       "      <td>0.0</td>\n",
       "      <td>1.0</td>\n",
       "      <td>0.0</td>\n",
       "      <td>0.0</td>\n",
       "      <td>0.0</td>\n",
       "      <td>0.0</td>\n",
       "      <td>0.0</td>\n",
       "      <td>0.0</td>\n",
       "      <td>1.0</td>\n",
       "      <td>67.903545</td>\n",
       "    </tr>\n",
       "    <tr>\n",
       "      <th>4</th>\n",
       "      <td>106.0</td>\n",
       "      <td>451.0</td>\n",
       "      <td>99.0</td>\n",
       "      <td>6</td>\n",
       "      <td>1.0</td>\n",
       "      <td>2.0</td>\n",
       "      <td>3.0</td>\n",
       "      <td>0.0</td>\n",
       "      <td>1</td>\n",
       "      <td>0</td>\n",
       "      <td>...</td>\n",
       "      <td>0.0</td>\n",
       "      <td>1.0</td>\n",
       "      <td>0.0</td>\n",
       "      <td>0.0</td>\n",
       "      <td>0.0</td>\n",
       "      <td>0.0</td>\n",
       "      <td>0.0</td>\n",
       "      <td>0.0</td>\n",
       "      <td>1.0</td>\n",
       "      <td>88.177659</td>\n",
       "    </tr>\n",
       "  </tbody>\n",
       "</table>\n",
       "<p>5 rows × 49 columns</p>\n",
       "</div>"
      ],
      "text/plain": [
       "   Price  Host Since  Host Response Rate  Accommodates  Bathrooms  Bedrooms  \\\n",
       "0   58.0       421.0               100.0             2        1.0       1.0   \n",
       "1   70.0       150.0               100.0             4        1.0       1.0   \n",
       "2   70.0       150.0               100.0             4        1.0       1.0   \n",
       "3  149.0       451.0                99.0             5        1.0       2.0   \n",
       "4  106.0       451.0                99.0             6        1.0       2.0   \n",
       "\n",
       "   Beds  Cleaning Fee  Guests Included  Extra People  ...  Other  \\\n",
       "0   1.0           0.0                1             0  ...    0.0   \n",
       "1   1.0          40.0                2            44  ...    0.0   \n",
       "2   1.0          60.0                2            42  ...    0.0   \n",
       "3   2.0          55.0                1             0  ...    0.0   \n",
       "4   3.0           0.0                1             0  ...    0.0   \n",
       "\n",
       "   Entire home/apt  Private room  Shared room  Airbed  Couch  Futon  \\\n",
       "0              1.0           0.0          0.0     0.0    0.0    0.0   \n",
       "1              1.0           0.0          0.0     0.0    0.0    0.0   \n",
       "2              1.0           0.0          0.0     0.0    0.0    0.0   \n",
       "3              1.0           0.0          0.0     0.0    0.0    0.0   \n",
       "4              1.0           0.0          0.0     0.0    0.0    0.0   \n",
       "\n",
       "   Pull-out Sofa  Real Bed  Market_CBE  \n",
       "0            0.0       1.0   63.710635  \n",
       "1            0.0       1.0   63.710635  \n",
       "2            0.0       1.0   66.855318  \n",
       "3            0.0       1.0   67.903545  \n",
       "4            0.0       1.0   88.177659  \n",
       "\n",
       "[5 rows x 49 columns]"
      ]
     },
     "execution_count": 62,
     "metadata": {},
     "output_type": "execute_result"
    }
   ],
   "source": [
    "datos.head()"
   ]
  },
  {
   "cell_type": "markdown",
   "metadata": {},
   "source": [
    "Buscando reducir más el número de variables, realizamos un gráfico de correlación y eliminamos las variables con alta correlación"
   ]
  },
  {
   "cell_type": "code",
   "execution_count": 63,
   "metadata": {},
   "outputs": [
    {
     "data": {
      "image/png": "[encoded data removed]",
      "text/plain": [
       "<Figure size 1008x864 with 2 Axes>"
      ]
     },
     "metadata": {},
     "output_type": "display_data"
    },
    {
     "data": {
      "text/plain": [
       "0"
      ]
     },
     "execution_count": 63,
     "metadata": {},
     "output_type": "execute_result"
    }
   ],
   "source": [
    "funciones_auxiliares.get_corr_matrix(dataset = datos, metodo='spearman', size_figure=[14,12])"
   ]
  },
  {
   "cell_type": "code",
   "execution_count": 64,
   "metadata": {},
   "outputs": [],
   "source": [
    "datos = datos.drop(columns=['Accommodates','Entire home/apt','Pull-out Sofa'])"
   ]
  },
  {
   "cell_type": "code",
   "execution_count": 65,
   "metadata": {},
   "outputs": [
    {
     "data": {
      "text/html": [
       "<div>\n",
       "<style scoped>\n",
       "    .dataframe tbody tr th:only-of-type {\n",
       "        vertical-align: middle;\n",
       "    }\n",
       "\n",
       "    .dataframe tbody tr th {\n",
       "        vertical-align: top;\n",
       "    }\n",
       "\n",
       "    .dataframe thead th {\n",
       "        text-align: right;\n",
       "    }\n",
       "</style>\n",
       "<table border=\"1\" class=\"dataframe\">\n",
       "  <thead>\n",
       "    <tr style=\"text-align: right;\">\n",
       "      <th></th>\n",
       "      <th>Price</th>\n",
       "      <th>Host Since</th>\n",
       "      <th>Host Response Rate</th>\n",
       "      <th>Bathrooms</th>\n",
       "      <th>Bedrooms</th>\n",
       "      <th>Beds</th>\n",
       "      <th>Cleaning Fee</th>\n",
       "      <th>Guests Included</th>\n",
       "      <th>Extra People</th>\n",
       "      <th>Minimum Nights</th>\n",
       "      <th>...</th>\n",
       "      <th>Apartment</th>\n",
       "      <th>House</th>\n",
       "      <th>Other</th>\n",
       "      <th>Private room</th>\n",
       "      <th>Shared room</th>\n",
       "      <th>Airbed</th>\n",
       "      <th>Couch</th>\n",
       "      <th>Futon</th>\n",
       "      <th>Real Bed</th>\n",
       "      <th>Market_CBE</th>\n",
       "    </tr>\n",
       "  </thead>\n",
       "  <tbody>\n",
       "    <tr>\n",
       "      <th>0</th>\n",
       "      <td>58.0</td>\n",
       "      <td>421.0</td>\n",
       "      <td>100.0</td>\n",
       "      <td>1.0</td>\n",
       "      <td>1.0</td>\n",
       "      <td>1.0</td>\n",
       "      <td>0.0</td>\n",
       "      <td>1</td>\n",
       "      <td>0</td>\n",
       "      <td>2</td>\n",
       "      <td>...</td>\n",
       "      <td>1.0</td>\n",
       "      <td>0.0</td>\n",
       "      <td>0.0</td>\n",
       "      <td>0.0</td>\n",
       "      <td>0.0</td>\n",
       "      <td>0.0</td>\n",
       "      <td>0.0</td>\n",
       "      <td>0.0</td>\n",
       "      <td>1.0</td>\n",
       "      <td>63.710635</td>\n",
       "    </tr>\n",
       "    <tr>\n",
       "      <th>1</th>\n",
       "      <td>70.0</td>\n",
       "      <td>150.0</td>\n",
       "      <td>100.0</td>\n",
       "      <td>1.0</td>\n",
       "      <td>1.0</td>\n",
       "      <td>1.0</td>\n",
       "      <td>40.0</td>\n",
       "      <td>2</td>\n",
       "      <td>44</td>\n",
       "      <td>1</td>\n",
       "      <td>...</td>\n",
       "      <td>1.0</td>\n",
       "      <td>0.0</td>\n",
       "      <td>0.0</td>\n",
       "      <td>0.0</td>\n",
       "      <td>0.0</td>\n",
       "      <td>0.0</td>\n",
       "      <td>0.0</td>\n",
       "      <td>0.0</td>\n",
       "      <td>1.0</td>\n",
       "      <td>63.710635</td>\n",
       "    </tr>\n",
       "    <tr>\n",
       "      <th>2</th>\n",
       "      <td>70.0</td>\n",
       "      <td>150.0</td>\n",
       "      <td>100.0</td>\n",
       "      <td>1.0</td>\n",
       "      <td>1.0</td>\n",
       "      <td>1.0</td>\n",
       "      <td>60.0</td>\n",
       "      <td>2</td>\n",
       "      <td>42</td>\n",
       "      <td>1</td>\n",
       "      <td>...</td>\n",
       "      <td>1.0</td>\n",
       "      <td>0.0</td>\n",
       "      <td>0.0</td>\n",
       "      <td>0.0</td>\n",
       "      <td>0.0</td>\n",
       "      <td>0.0</td>\n",
       "      <td>0.0</td>\n",
       "      <td>0.0</td>\n",
       "      <td>1.0</td>\n",
       "      <td>66.855318</td>\n",
       "    </tr>\n",
       "    <tr>\n",
       "      <th>3</th>\n",
       "      <td>149.0</td>\n",
       "      <td>451.0</td>\n",
       "      <td>99.0</td>\n",
       "      <td>1.0</td>\n",
       "      <td>2.0</td>\n",
       "      <td>2.0</td>\n",
       "      <td>55.0</td>\n",
       "      <td>1</td>\n",
       "      <td>0</td>\n",
       "      <td>2</td>\n",
       "      <td>...</td>\n",
       "      <td>1.0</td>\n",
       "      <td>0.0</td>\n",
       "      <td>0.0</td>\n",
       "      <td>0.0</td>\n",
       "      <td>0.0</td>\n",
       "      <td>0.0</td>\n",
       "      <td>0.0</td>\n",
       "      <td>0.0</td>\n",
       "      <td>1.0</td>\n",
       "      <td>67.903545</td>\n",
       "    </tr>\n",
       "    <tr>\n",
       "      <th>4</th>\n",
       "      <td>106.0</td>\n",
       "      <td>451.0</td>\n",
       "      <td>99.0</td>\n",
       "      <td>1.0</td>\n",
       "      <td>2.0</td>\n",
       "      <td>3.0</td>\n",
       "      <td>0.0</td>\n",
       "      <td>1</td>\n",
       "      <td>0</td>\n",
       "      <td>2</td>\n",
       "      <td>...</td>\n",
       "      <td>1.0</td>\n",
       "      <td>0.0</td>\n",
       "      <td>0.0</td>\n",
       "      <td>0.0</td>\n",
       "      <td>0.0</td>\n",
       "      <td>0.0</td>\n",
       "      <td>0.0</td>\n",
       "      <td>0.0</td>\n",
       "      <td>1.0</td>\n",
       "      <td>88.177659</td>\n",
       "    </tr>\n",
       "  </tbody>\n",
       "</table>\n",
       "<p>5 rows × 46 columns</p>\n",
       "</div>"
      ],
      "text/plain": [
       "   Price  Host Since  Host Response Rate  Bathrooms  Bedrooms  Beds  \\\n",
       "0   58.0       421.0               100.0        1.0       1.0   1.0   \n",
       "1   70.0       150.0               100.0        1.0       1.0   1.0   \n",
       "2   70.0       150.0               100.0        1.0       1.0   1.0   \n",
       "3  149.0       451.0                99.0        1.0       2.0   2.0   \n",
       "4  106.0       451.0                99.0        1.0       2.0   3.0   \n",
       "\n",
       "   Cleaning Fee  Guests Included  Extra People  Minimum Nights  ...  \\\n",
       "0           0.0                1             0               2  ...   \n",
       "1          40.0                2            44               1  ...   \n",
       "2          60.0                2            42               1  ...   \n",
       "3          55.0                1             0               2  ...   \n",
       "4           0.0                1             0               2  ...   \n",
       "\n",
       "   Apartment  House  Other  Private room  Shared room  Airbed  Couch  Futon  \\\n",
       "0        1.0    0.0    0.0           0.0          0.0     0.0    0.0    0.0   \n",
       "1        1.0    0.0    0.0           0.0          0.0     0.0    0.0    0.0   \n",
       "2        1.0    0.0    0.0           0.0          0.0     0.0    0.0    0.0   \n",
       "3        1.0    0.0    0.0           0.0          0.0     0.0    0.0    0.0   \n",
       "4        1.0    0.0    0.0           0.0          0.0     0.0    0.0    0.0   \n",
       "\n",
       "   Real Bed  Market_CBE  \n",
       "0       1.0   63.710635  \n",
       "1       1.0   63.710635  \n",
       "2       1.0   66.855318  \n",
       "3       1.0   67.903545  \n",
       "4       1.0   88.177659  \n",
       "\n",
       "[5 rows x 46 columns]"
      ]
     },
     "execution_count": 65,
     "metadata": {},
     "output_type": "execute_result"
    }
   ],
   "source": [
    "datos.head()"
   ]
  },
  {
   "cell_type": "markdown",
   "metadata": {},
   "source": [
    "### 6.2. Conjuntos Train y Test y escalado de variables"
   ]
  },
  {
   "cell_type": "code",
   "execution_count": 66,
   "metadata": {},
   "outputs": [
    {
     "data": {
      "text/plain": [
       "((11440, 45), (2860, 45))"
      ]
     },
     "execution_count": 66,
     "metadata": {},
     "output_type": "execute_result"
    }
   ],
   "source": [
    "X = datos.iloc[:,1:46]\n",
    "Y = datos['Price'].astype('int')\n",
    "\n",
    "from sklearn.model_selection import train_test_split\n",
    "\n",
    "X_train, X_test, Y_train, Y_test = train_test_split(X, Y, test_size=0.2, random_state=0)\n",
    "\n",
    "X_train.shape, X_test.shape"
   ]
  },
  {
   "cell_type": "code",
   "execution_count": 67,
   "metadata": {},
   "outputs": [],
   "source": [
    "from sklearn.preprocessing import StandardScaler\n",
    "scaler = StandardScaler()\n",
    "model_scaled = scaler.fit(X_train)\n",
    "X_train_scaled = pd.DataFrame(scaler.transform(X_train), columns=X_train.columns, index=X_train.index)\n",
    "X_test_scaled = pd.DataFrame(scaler.transform(X_test), columns=X_test.columns, index=X_test.index)"
   ]
  },
  {
   "cell_type": "markdown",
   "metadata": {},
   "source": [
    "# 7. Modelos de Regresión"
   ]
  },
  {
   "cell_type": "markdown",
   "metadata": {},
   "source": [
    "### 7.1 KNN"
   ]
  },
  {
   "cell_type": "markdown",
   "metadata": {},
   "source": [
    "Vamos a utilizar el algoritmo KNN para regresión.\n",
    "\n",
    "Este método consiste en, una vez identificados los k vecinos de cada punto, en lugar de considerar su clase y establecer un sistema de \"votación\", se considerará el valor que toma la etiqueta para cada uno de ellos y se devolverá como predicción el valor medio de dichos valores."
   ]
  },
  {
   "cell_type": "markdown",
   "metadata": {},
   "source": [
    "En primer lugar vamos a buscar el k óptimo para el que aplicar KNN, con un gráfico de codo, en el que veremos qué k da el menor MSE:"
   ]
  },
  {
   "cell_type": "code",
   "execution_count": 68,
   "metadata": {},
   "outputs": [],
   "source": [
    "k_list=np.arange(1,15,1)\n",
    "knn_dict={} # Guardamos los k\n",
    "for i in k_list:\n",
    "    \n",
    "# Creamos el modelo\n",
    "    knn=KNeighborsRegressor(n_neighbors=int(i))\n",
    "    model_knn=knn.fit(X_train_scaled,Y_train)\n",
    "    y_knn_pred=model_knn.predict(X_test_scaled)\n",
    "    \n",
    "# Guardamos el MSE\n",
    "    mse=r2_score(Y_test,y_knn_pred)\n",
    "    knn_dict[i]=mse\n"
   ]
  },
  {
   "cell_type": "code",
   "execution_count": 69,
   "metadata": {},
   "outputs": [
    {
     "name": "stdout",
     "output_type": "stream",
     "text": [
      "{1: 0.40285226099451055, 2: 0.5420083892172561, 3: 0.5971790853445145, 4: 0.6112173805825485, 5: 0.6205653405535079, 6: 0.6252791352926077, 7: 0.6266209524901021, 8: 0.6287806899744728, 9: 0.6308807029206613, 10: 0.631880249956632, 11: 0.6328459095620276, 12: 0.635236790977433, 13: 0.6347766315568827, 14: 0.6337441251612499}\n"
     ]
    },
    {
     "data": {
      "text/plain": [
       "Text(0.5, 1.0, 'ELBOW PLOT')"
      ]
     },
     "execution_count": 69,
     "metadata": {},
     "output_type": "execute_result"
    },
    {
     "data": {
      "image/png": "[encoded data removed]",
      "text/plain": [
       "<Figure size 504x504 with 1 Axes>"
      ]
     },
     "metadata": {},
     "output_type": "display_data"
    }
   ],
   "source": [
    "# Gráfico de codo:\n",
    "fig,ax=plt.subplots(figsize=(7,7))\n",
    "print(knn_dict)\n",
    "ax.plot(knn_dict.keys(),knn_dict.values())\n",
    "ax.set_xlabel('K-VALUE', fontsize=20)\n",
    "ax.set_ylabel('R2' ,fontsize=20)\n",
    "ax.set_title('ELBOW PLOT' ,fontsize=28)\n"
   ]
  },
  {
   "cell_type": "markdown",
   "metadata": {},
   "source": [
    "Usando Cross-Validation:"
   ]
  },
  {
   "cell_type": "code",
   "execution_count": 70,
   "metadata": {},
   "outputs": [
    {
     "name": "stdout",
     "output_type": "stream",
     "text": [
      "KNeighborsRegressor(n_neighbors=12)\n"
     ]
    }
   ],
   "source": [
    "random_grid = {'n_neighbors': [1,2,3,4,5,6,7,8,9,10,11,12,13,14,15,16,17]}\n",
    "knn_tune = KNeighborsRegressor()\n",
    "knn_random = GridSearchCV(estimator = knn_tune, \\\n",
    "                         param_grid = random_grid, cv = 3)\n",
    "\n",
    "knn_random.fit(X_train_scaled,Y_train)\n",
    "print(knn_random.best_estimator_)"
   ]
  },
  {
   "cell_type": "markdown",
   "metadata": {},
   "source": [
    "Acabamos de comprobar que tanto por Cross-Validation como en el gráfico el mejor k es 12, por tanto **usamos k = 12** para KNN Regressor."
   ]
  },
  {
   "cell_type": "code",
   "execution_count": 71,
   "metadata": {},
   "outputs": [],
   "source": [
    "knn = KNeighborsRegressor(n_neighbors=12)\n",
    "\n",
    "knn.fit(X_train_scaled, Y_train)\n",
    "\n",
    "knn_pred=knn.predict(X_test_scaled)"
   ]
  },
  {
   "cell_type": "markdown",
   "metadata": {},
   "source": [
    "Vemos las puntuaciones asociadas al modelo con diferentes métricas:"
   ]
  },
  {
   "cell_type": "code",
   "execution_count": 72,
   "metadata": {},
   "outputs": [
    {
     "name": "stdout",
     "output_type": "stream",
     "text": [
      "Regresión con KNN Regressor (MSE): 596.9680312742813\n",
      "Regresión con KNN Regressor (RMSE): 24.43292924056142\n",
      "Regresión con KNN Regressor (R^2): 0.635236790977433\n",
      "Regresión con KNN Regressor (MAE): 16.71037296037296\n"
     ]
    }
   ],
   "source": [
    "print(\"Regresión con KNN Regressor (MSE):\", mean_squared_error(Y_test, knn_pred))\n",
    "print(\"Regresión con KNN Regressor (RMSE):\", mean_squared_error(Y_test, knn_pred,squared=False))\n",
    "print(\"Regresión con KNN Regressor (R^2):\", r2_score(Y_test, knn_pred))\n",
    "print(\"Regresión con KNN Regressor (MAE):\", mean_absolute_error(Y_test, knn_pred))"
   ]
  },
  {
   "cell_type": "markdown",
   "metadata": {},
   "source": [
    "### 7.2 Regresión Lineal"
   ]
  },
  {
   "cell_type": "markdown",
   "metadata": {},
   "source": [
    "\n",
    "El modelo de regresión lineal busca determinar si existe una relación lineal \n",
    "entre una variable dependiente y una o varias independientes. El modelo debe \n",
    "examinar cuales son nuestras variables más significativas para predecir el \n",
    "precio del alojamiento.Por ejemplo parece lógico pensar que cuanto más espacio\n",
    "tenga una casa mayor será su precio.\n",
    "\n",
    "Además se pueden aplicar regularizaciones al modelo, que consiste en añadir penalizaciones a la función de costo, de manera que la complejidad del modelo disminuye a la vez que minimizamos la función de coste. Esto resulta en modelos más simples que tienden a generalizar mejor. \n",
    "\n",
    "La regularización que usaremos es Lasso(L1) ya que favorece que algunos de los coeficientes acaben valiendo 0. Esto será de ayuda  para descubrir cuáles de nuestras variables independientes son relevates para el precio del alojamieto.\n",
    "\n",
    "Empezaremos buscando el mejor hiperparámetro 'alpha' usando cross validation"
   ]
  },
  {
   "cell_type": "code",
   "execution_count": 73,
   "metadata": {},
   "outputs": [
    {
     "ename": "AttributeError",
     "evalue": "'LassoCV' object has no attribute 'alpha_'",
     "output_type": "error",
     "traceback": [
      "\u001b[0;31m---------------------------------------------------------------------------\u001b[0m",
      "\u001b[0;31mAttributeError\u001b[0m                            Traceback (most recent call last)",
      "\u001b[0;32m<ipython-input-73-60e2755c16cd>\u001b[0m in \u001b[0;36m<module>\u001b[0;34m\u001b[0m\n\u001b[1;32m      5\u001b[0m \u001b[0mlasso\u001b[0m \u001b[0;34m=\u001b[0m \u001b[0mLassoCV\u001b[0m\u001b[0;34m(\u001b[0m\u001b[0malphas\u001b[0m\u001b[0;34m=\u001b[0m\u001b[0mlasso_alphas\u001b[0m\u001b[0;34m,\u001b[0m \u001b[0mcv\u001b[0m\u001b[0;34m=\u001b[0m\u001b[0mcv\u001b[0m\u001b[0;34m,\u001b[0m \u001b[0mn_jobs\u001b[0m\u001b[0;34m=\u001b[0m\u001b[0;34m-\u001b[0m\u001b[0;36m1\u001b[0m\u001b[0;34m)\u001b[0m\u001b[0;34m\u001b[0m\u001b[0;34m\u001b[0m\u001b[0m\n\u001b[1;32m      6\u001b[0m \u001b[0;31m#Resultados\u001b[0m\u001b[0;34m\u001b[0m\u001b[0;34m\u001b[0m\u001b[0;34m\u001b[0m\u001b[0m\n\u001b[0;32m----> 7\u001b[0;31m \u001b[0mprint\u001b[0m\u001b[0;34m(\u001b[0m\u001b[0;34m'alpha:'\u001b[0m\u001b[0;34m,\u001b[0m \u001b[0mlasso\u001b[0m\u001b[0;34m.\u001b[0m\u001b[0malpha_\u001b[0m\u001b[0;34m)\u001b[0m\u001b[0;34m\u001b[0m\u001b[0;34m\u001b[0m\u001b[0m\n\u001b[0m",
      "\u001b[0;31mAttributeError\u001b[0m: 'LassoCV' object has no attribute 'alpha_'"
     ]
    }
   ],
   "source": [
    "#Espacio de búsqueda del hiperparámetro alpha\n",
    "# ==============================================================================\n",
    "cv = RepeatedKFold(n_splits=10, n_repeats=3, random_state=123)\n",
    "lasso_alphas = 10**np.linspace(-2,2,200)\n",
    "# ==============================================================================\n",
    "#Búsqueda LassoCV\n",
    "# ==============================================================================\n",
    "lasso = LassoCV(alphas=lasso_alphas, cv=cv, n_jobs=-1)\n",
    "lasso.fit(X_train_scaled, Y_train)\n",
    "#Resultados\n",
    "# ==============================================================================\n",
    "print('alpha:', lasso.alpha_)"
   ]
  },
  {
   "cell_type": "markdown",
   "metadata": {},
   "source": [
    "Por lo tanto construiremos nuestro modelo tomando alpha: 0.10595601792776159"
   ]
  },
  {
   "cell_type": "code",
   "execution_count": null,
   "metadata": {},
   "outputs": [],
   "source": [
    "modelLasso=lasso.fit(X_train_scaled, Y_train)\n",
    "trainPred_lasso = modelLasso.predict(X_train_scaled)\n",
    "testPred_lasso =modelLasso.predict(X_test_scaled)"
   ]
  },
  {
   "cell_type": "markdown",
   "metadata": {},
   "source": [
    "Veamos cuales son los coeficientes que hemos obtenido"
   ]
  },
  {
   "cell_type": "code",
   "execution_count": null,
   "metadata": {},
   "outputs": [],
   "source": [
    "lasso_betas = list(zip(X_train_scaled.columns,modelLasso.coef_))\n",
    "coeff= pd.DataFrame(lasso_betas,columns=['característica','coeficiente']) \n",
    "coeff.sort_values(by='coeficiente', inplace=True)\n",
    "coeff"
   ]
  },
  {
   "cell_type": "markdown",
   "metadata": {},
   "source": [
    "Las variables que no son significativas son House, Other, Maximun Nights, Airbed, Host Verifications_0, Apartment y Futon\n",
    "\n",
    "Por otra parte las 5 más impotantes son Private room,Bedrooms, Shared room y Cleaning Fee.\n"
   ]
  },
  {
   "cell_type": "code",
   "execution_count": null,
   "metadata": {},
   "outputs": [],
   "source": [
    "coeff2 = coeff.set_index('característica', drop=True)\n",
    "coeff2.plot.barh(figsize=(8,8))\n",
    "plt.xlabel('Coeficientes de cada característica')\n",
    "plt.show()"
   ]
  },
  {
   "cell_type": "code",
   "execution_count": null,
   "metadata": {},
   "outputs": [],
   "source": [
    "mse_lasso = mean_squared_error(Y_test, testPred_lasso)\n",
    "print(\"Regresión con Lasso (MSE):\",mse_lasso)\n",
    "rmse_lasso=mean_squared_error(Y_test, testPred_lasso,squared=False)\n",
    "print(\"Regresión con Lasso (RMSE):\", rmse_lasso)\n",
    "r2_lasso = r2_score(Y_test, testPred_lasso)\n",
    "print(\"Regresión con Lasso (R^2):\", r2_lasso)\n",
    "mae_lasso = mean_absolute_error(Y_test, testPred_lasso)\n",
    "print(\"Regresión con Lasso (MAE):\", mae_lasso)"
   ]
  },
  {
   "cell_type": "markdown",
   "metadata": {},
   "source": [
    "### 7.3 Random forest"
   ]
  },
  {
   "cell_type": "markdown",
   "metadata": {},
   "source": [
    "Un árbol de decisión es una técnica de aprendizaje automático que se puede utilizar para regresión y clasificación. Los árboles de decisión tienen la tendencia de sobre-ajustar (overfit). Esto quiere decir que tienden a aprender muy bien los datos de entrenamiento pero su generalización no es tan buena.\n",
    "\n",
    "Podemos mejorar la capaidad de los árboles combinando varios. A esta combinación de la llama Random Forest.\n",
    "\n",
    "Al combinar sus resultados, unos errores se compensan con otros y tenemos una predicción que generaliza mejor.\n",
    "\n",
    "Este algoritmo puede capturar relaciones no lineales y no requiere ninguna transformación de las características si se trata de datos no lineales ya que los árboles de decisión no tienen en cuenta múltiples combinaciones ponderadas simultáneamente. Por tanto esta vez no escalaremos el set de entrenamiento. Es un algoritmo rápidos y eficientes en comparación con KNN y ofrece fácil interpretación y visualización."
   ]
  },
  {
   "cell_type": "markdown",
   "metadata": {},
   "source": [
    "Vamos a ver cuáles son los parámetros óptimos para Random Forest con cross validation:"
   ]
  },
  {
   "cell_type": "code",
   "execution_count": null,
   "metadata": {},
   "outputs": [],
   "source": [
    "random_grid = {'n_estimators': [200],\n",
    "                'max_features': [2,5],\n",
    "               'max_depth': [40,70],\n",
    "               'min_samples_split': [40,50],\n",
    "                'max_leaf_nodes':[50,70],\n",
    "                'max_features': [2,5]}\n",
    "rf_tune = RandomForestRegressor()\n",
    "rf_random = GridSearchCV(estimator = rf_tune, param_grid = random_grid, cv = 3, verbose=2,n_jobs = 2)\n",
    "\n",
    "rf_random.fit(X_train,Y_train)\n",
    "print(rf_random.best_estimator_)"
   ]
  },
  {
   "cell_type": "code",
   "execution_count": null,
   "metadata": {},
   "outputs": [],
   "source": [
    "# Creamos el modelo:\n",
    "\n",
    "RF = RandomForestRegressor(max_depth=40, max_features=5, max_leaf_nodes=70,\n",
    "                      min_samples_split=50, n_estimators=200)\n",
    "RF.fit(X_train,Y_train)\n",
    "\n",
    "trainPred = RF.predict(X_train)\n",
    "forest_pred =RF.predict(X_test)"
   ]
  },
  {
   "cell_type": "markdown",
   "metadata": {},
   "source": [
    "Vemos cuáles son los pesos o importancias de cada variable en la regresión:"
   ]
  },
  {
   "cell_type": "code",
   "execution_count": null,
   "metadata": {},
   "outputs": [],
   "source": [
    "importancesRF = RF.feature_importances_\n",
    "feat_imp1 = pd.DataFrame(importancesRF, columns=['Weight'], index=X_train.columns)\n",
    "feat_imp1.sort_values('Weight', inplace=True)\n",
    "feat_imp1"
   ]
  },
  {
   "cell_type": "code",
   "execution_count": null,
   "metadata": {},
   "outputs": [],
   "source": [
    "feat_imp = pd.DataFrame({'importance':RF.feature_importances_})  \n",
    "feat_imp['feature'] = X_train.columns\n",
    "feat_imp.sort_values(by='importance', ascending=False, inplace=True)\n",
    "\n",
    "feat_imp.sort_values(by='importance', inplace=True)\n",
    "feat_imp = feat_imp.set_index('feature', drop=True)\n",
    "feat_imp.plot.barh(figsize=(8,8))\n",
    "plt.xlabel('Importacia de cada característica')\n",
    "plt.show()"
   ]
  },
  {
   "cell_type": "markdown",
   "metadata": {},
   "source": [
    "Vemos las puntuaciones asociadas al modelo con diferentes métricas:"
   ]
  },
  {
   "cell_type": "code",
   "execution_count": null,
   "metadata": {},
   "outputs": [],
   "source": [
    "print(\"Regresión con Random Forest (MSE):\", mean_squared_error(Y_test, forest_pred))\n",
    "print(\"Regresión con Random Forest (RMSE):\", mean_squared_error(Y_test, forest_pred,squared=False))\n",
    "print(\"Regresión con Random Forest (R^2):\", r2_score(Y_test, forest_pred))\n",
    "print(\"Regresión con Random Forest (MAE):\", mean_absolute_error(Y_test, forest_pred))"
   ]
  },
  {
   "cell_type": "markdown",
   "metadata": {},
   "source": [
    "### 7.4 Algoritmo SVM en Regresión"
   ]
  },
  {
   "cell_type": "markdown",
   "metadata": {},
   "source": [
    "SVR (Support Vector Regression) es una variación de SVM (utilizado para clasificar), sin embargo, con esta variante el algoritmo SVR se utiliza para predecir valores con un margen de tolerancia (épsilon) establecido por el investigador."
   ]
  },
  {
   "cell_type": "markdown",
   "metadata": {},
   "source": [
    "Veamos cuál es el épsilon óptimo para SVR con cross validation:"
   ]
  },
  {
   "cell_type": "code",
   "execution_count": null,
   "metadata": {},
   "outputs": [],
   "source": [
    "# Grid de hiperparámetros\n",
    "# ==============================================================================\n",
    "param = {'epsilon':[1,5,10,15,20,25]}\n",
    "modelsvr = SVR(kernel='linear')\n",
    "\n",
    "# Búsqueda por cross validation\n",
    "# ==============================================================================\n",
    "grid = GridSearchCV(modelsvr,\n",
    "                    param,\n",
    "                    cv=5)\n",
    "_=grid.fit(X_train_scaled,Y_train)\n",
    "grid.best_estimator_\n",
    "print(grid.best_estimator_)\n"
   ]
  },
  {
   "cell_type": "markdown",
   "metadata": {},
   "source": [
    "Por lo tanto construiremos nuestro modelo tomando epsilon con valor 20"
   ]
  },
  {
   "cell_type": "code",
   "execution_count": null,
   "metadata": {},
   "outputs": [],
   "source": [
    "modelSVR = SVR(kernel='linear',epsilon=20)\n",
    "modelSVR.fit(X_train_scaled,Y_train)\n",
    "\n",
    "trainPred_svr = modelSVR.predict(X_train_scaled)\n",
    "testPred_svr =modelSVR.predict(X_test_scaled)"
   ]
  },
  {
   "cell_type": "markdown",
   "metadata": {},
   "source": [
    "Veamos cuales son los pesos de cada variable en la regresión\n",
    "\n",
    "\n",
    "\n",
    "\n",
    "\n",
    "\n"
   ]
  },
  {
   "cell_type": "code",
   "execution_count": null,
   "metadata": {},
   "outputs": [],
   "source": [
    "mse_svr = mean_squared_error(Y_test, testPred)\n",
    "print(\"Regresión con SVR (MSE):\",mse_svr)\n",
    "rmse_svr=mean_squared_error(Y_test, testPred,squared=False)\n",
    "print(\"Regresión con SVR (RMSE):\", rmse_svr)\n",
    "r2_svr = r2_score(Y_test, testPred)\n",
    "print(\"Regresión con SVR (R^2):\", r2_svr)\n",
    "mae_svr = mean_absolute_error(Y_test, testPred)\n",
    "print(\"Regresión con SVR (MAE):\", mae_svr)"
   ]
  },
  {
   "cell_type": "code",
   "execution_count": null,
   "metadata": {},
   "outputs": [],
   "source": [
    "coefSVR = modelSVR.coef_\n",
    "feat_imp = pd.DataFrame({'Weight':coefSVR[0]})  \n",
    "feat_imp['característica'] = X_train.columns\n",
    "feat_imp.sort_values(by='Weight', inplace=True)\n",
    "feat_imp"
   ]
  },
  {
   "cell_type": "code",
   "execution_count": null,
   "metadata": {},
   "outputs": [],
   "source": [
    "feat_imp = feat_imp.set_index('característica', drop=True)\n",
    "feat_imp.plot.barh(figsize=(8,8))\n",
    "plt.xlabel('Pesos de cada característica')\n",
    "plt.show()"
   ]
  }
 ],
 "metadata": {
  "kernelspec": {
   "display_name": "Python 3",
   "language": "python",
   "name": "python3"
  },
  "language_info": {
   "codemirror_mode": {
    "name": "ipython",
    "version": 3
   },
   "file_extension": ".py",
   "mimetype": "text/x-python",
   "name": "python",
   "nbconvert_exporter": "python",
   "pygments_lexer": "ipython3",
   "version": "3.8.10"
  }
 },
 "nbformat": 4,
 "nbformat_minor": 5
}
